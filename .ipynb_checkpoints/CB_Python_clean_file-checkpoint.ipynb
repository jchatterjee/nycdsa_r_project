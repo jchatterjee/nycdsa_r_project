{
 "cells": [
  {
   "cell_type": "markdown",
   "id": "14e78922",
   "metadata": {},
   "source": [
    "Since the user experienced problems with R, further data cleaning shall be performed in Python for efficiency."
   ]
  },
  {
   "cell_type": "markdown",
   "id": "53c4c675",
   "metadata": {},
   "source": [
    "First, import relevant packages:"
   ]
  },
  {
   "cell_type": "code",
   "execution_count": 1,
   "id": "7c52f461",
   "metadata": {},
   "outputs": [],
   "source": [
    "import pandas as pd\n",
    "import numpy as np"
   ]
  },
  {
   "cell_type": "markdown",
   "id": "5becf83e",
   "metadata": {},
   "source": [
    "Next, load the CSV file into a dataframe:"
   ]
  },
  {
   "cell_type": "code",
   "execution_count": 2,
   "id": "9f953431",
   "metadata": {},
   "outputs": [],
   "source": [
    "# CB_Data = pd.read_csv('CitiBike_data/202105-202204-citibike-trip-data.csv', low_memory=False)"
   ]
  },
  {
   "cell_type": "code",
   "execution_count": 4,
   "id": "3b0c3a91",
   "metadata": {},
   "outputs": [
    {
     "name": "stdout",
     "output_type": "stream",
     "text": [
      "<class 'pandas.core.frame.DataFrame'>\n",
      "RangeIndex: 27170850 entries, 0 to 27170849\n",
      "Data columns (total 18 columns):\n",
      " #   Column              Dtype  \n",
      "---  ------              -----  \n",
      " 0   Unnamed: 0          int64  \n",
      " 1   rideable_type       object \n",
      " 2   start_station_name  object \n",
      " 3   end_station_name    object \n",
      " 4   start_lat           float64\n",
      " 5   start_lng           float64\n",
      " 6   end_lat             float64\n",
      " 7   end_lng             float64\n",
      " 8   member_casual       object \n",
      " 9   year                int64  \n",
      " 10  month               int64  \n",
      " 11  duration            float64\n",
      " 12  CB_start_hood       object \n",
      " 13  CB_start_boro       object \n",
      " 14  CB_end_hood         object \n",
      " 15  CB_end_boro         object \n",
      " 16  distance            float64\n",
      " 17  speed               float64\n",
      "dtypes: float64(7), int64(3), object(8)\n",
      "memory usage: 3.6+ GB\n"
     ]
    }
   ],
   "source": [
    "CB_Data.info()"
   ]
  },
  {
   "cell_type": "code",
   "execution_count": 3,
   "id": "e0930fad",
   "metadata": {},
   "outputs": [
    {
     "data": {
      "text/plain": [
       "Index(['Unnamed: 0', 'rideable_type', 'start_station_name', 'end_station_name',\n",
       "       'start_lat', 'start_lng', 'end_lat', 'end_lng', 'member_casual', 'year',\n",
       "       'month', 'duration', 'CB_start_hood', 'CB_start_boro', 'CB_end_hood',\n",
       "       'CB_end_boro', 'distance', 'speed'],\n",
       "      dtype='object')"
      ]
     },
     "execution_count": 3,
     "metadata": {},
     "output_type": "execute_result"
    }
   ],
   "source": [
    "CB_Data.columns"
   ]
  },
  {
   "cell_type": "code",
   "execution_count": 20,
   "id": "9861acf7",
   "metadata": {},
   "outputs": [
    {
     "data": {
      "text/html": [
       "<div>\n",
       "<style scoped>\n",
       "    .dataframe tbody tr th:only-of-type {\n",
       "        vertical-align: middle;\n",
       "    }\n",
       "\n",
       "    .dataframe tbody tr th {\n",
       "        vertical-align: top;\n",
       "    }\n",
       "\n",
       "    .dataframe thead th {\n",
       "        text-align: right;\n",
       "    }\n",
       "</style>\n",
       "<table border=\"1\" class=\"dataframe\">\n",
       "  <thead>\n",
       "    <tr style=\"text-align: right;\">\n",
       "      <th></th>\n",
       "      <th>rideable_type</th>\n",
       "      <th>start_station_name</th>\n",
       "      <th>end_station_name</th>\n",
       "      <th>start_lat</th>\n",
       "      <th>start_lng</th>\n",
       "      <th>end_lat</th>\n",
       "      <th>end_lng</th>\n",
       "      <th>member_casual</th>\n",
       "      <th>year</th>\n",
       "      <th>month</th>\n",
       "      <th>duration</th>\n",
       "      <th>CB_start_hood</th>\n",
       "      <th>CB_start_boro</th>\n",
       "      <th>CB_end_hood</th>\n",
       "      <th>CB_end_boro</th>\n",
       "      <th>distance</th>\n",
       "      <th>speed</th>\n",
       "    </tr>\n",
       "  </thead>\n",
       "  <tbody>\n",
       "    <tr>\n",
       "      <th>0</th>\n",
       "      <td>Classic Bike</td>\n",
       "      <td>Broadway &amp; W 60 St</td>\n",
       "      <td>1 Ave &amp; E 78 St</td>\n",
       "      <td>40.769155</td>\n",
       "      <td>-73.981918</td>\n",
       "      <td>40.771404</td>\n",
       "      <td>-73.953517</td>\n",
       "      <td>member</td>\n",
       "      <td>2021</td>\n",
       "      <td>5</td>\n",
       "      <td>20.400000</td>\n",
       "      <td>Midtown West</td>\n",
       "      <td>Manhattan</td>\n",
       "      <td>Upper East Side</td>\n",
       "      <td>Manhattan</td>\n",
       "      <td>2.114896</td>\n",
       "      <td>6.220281</td>\n",
       "    </tr>\n",
       "    <tr>\n",
       "      <th>1</th>\n",
       "      <td>Classic Bike</td>\n",
       "      <td>Broadway &amp; W 25 St</td>\n",
       "      <td>E 2 St &amp; Avenue B</td>\n",
       "      <td>40.742868</td>\n",
       "      <td>-73.989186</td>\n",
       "      <td>40.722174</td>\n",
       "      <td>-73.983688</td>\n",
       "      <td>member</td>\n",
       "      <td>2021</td>\n",
       "      <td>5</td>\n",
       "      <td>19.483333</td>\n",
       "      <td>Midtown East</td>\n",
       "      <td>Manhattan</td>\n",
       "      <td>East Village</td>\n",
       "      <td>Manhattan</td>\n",
       "      <td>1.807232</td>\n",
       "      <td>5.565471</td>\n",
       "    </tr>\n",
       "    <tr>\n",
       "      <th>2</th>\n",
       "      <td>Classic Bike</td>\n",
       "      <td>46 Ave &amp; 5 St</td>\n",
       "      <td>34th Ave &amp; Vernon Blvd</td>\n",
       "      <td>40.747310</td>\n",
       "      <td>-73.954510</td>\n",
       "      <td>40.765354</td>\n",
       "      <td>-73.939863</td>\n",
       "      <td>member</td>\n",
       "      <td>2021</td>\n",
       "      <td>5</td>\n",
       "      <td>15.566667</td>\n",
       "      <td>Long Island City</td>\n",
       "      <td>Queens</td>\n",
       "      <td>Long Island City</td>\n",
       "      <td>Queens</td>\n",
       "      <td>2.255655</td>\n",
       "      <td>8.694175</td>\n",
       "    </tr>\n",
       "    <tr>\n",
       "      <th>3</th>\n",
       "      <td>Classic Bike</td>\n",
       "      <td>46 Ave &amp; 5 St</td>\n",
       "      <td>34th Ave &amp; Vernon Blvd</td>\n",
       "      <td>40.747310</td>\n",
       "      <td>-73.954510</td>\n",
       "      <td>40.765354</td>\n",
       "      <td>-73.939863</td>\n",
       "      <td>member</td>\n",
       "      <td>2021</td>\n",
       "      <td>5</td>\n",
       "      <td>16.216667</td>\n",
       "      <td>Long Island City</td>\n",
       "      <td>Queens</td>\n",
       "      <td>Long Island City</td>\n",
       "      <td>Queens</td>\n",
       "      <td>2.255655</td>\n",
       "      <td>8.345693</td>\n",
       "    </tr>\n",
       "    <tr>\n",
       "      <th>4</th>\n",
       "      <td>Classic Bike</td>\n",
       "      <td>46 Ave &amp; 5 St</td>\n",
       "      <td>34th Ave &amp; Vernon Blvd</td>\n",
       "      <td>40.747310</td>\n",
       "      <td>-73.954510</td>\n",
       "      <td>40.765354</td>\n",
       "      <td>-73.939863</td>\n",
       "      <td>member</td>\n",
       "      <td>2021</td>\n",
       "      <td>5</td>\n",
       "      <td>14.566667</td>\n",
       "      <td>Long Island City</td>\n",
       "      <td>Queens</td>\n",
       "      <td>Long Island City</td>\n",
       "      <td>Queens</td>\n",
       "      <td>2.255655</td>\n",
       "      <td>9.291029</td>\n",
       "    </tr>\n",
       "  </tbody>\n",
       "</table>\n",
       "</div>"
      ],
      "text/plain": [
       "  rideable_type  start_station_name        end_station_name  start_lat  \\\n",
       "0  Classic Bike  Broadway & W 60 St         1 Ave & E 78 St  40.769155   \n",
       "1  Classic Bike  Broadway & W 25 St       E 2 St & Avenue B  40.742868   \n",
       "2  Classic Bike       46 Ave & 5 St  34th Ave & Vernon Blvd  40.747310   \n",
       "3  Classic Bike       46 Ave & 5 St  34th Ave & Vernon Blvd  40.747310   \n",
       "4  Classic Bike       46 Ave & 5 St  34th Ave & Vernon Blvd  40.747310   \n",
       "\n",
       "   start_lng    end_lat    end_lng member_casual  year  month   duration  \\\n",
       "0 -73.981918  40.771404 -73.953517        member  2021      5  20.400000   \n",
       "1 -73.989186  40.722174 -73.983688        member  2021      5  19.483333   \n",
       "2 -73.954510  40.765354 -73.939863        member  2021      5  15.566667   \n",
       "3 -73.954510  40.765354 -73.939863        member  2021      5  16.216667   \n",
       "4 -73.954510  40.765354 -73.939863        member  2021      5  14.566667   \n",
       "\n",
       "      CB_start_hood CB_start_boro       CB_end_hood CB_end_boro  distance  \\\n",
       "0      Midtown West     Manhattan   Upper East Side   Manhattan  2.114896   \n",
       "1      Midtown East     Manhattan      East Village   Manhattan  1.807232   \n",
       "2  Long Island City        Queens  Long Island City      Queens  2.255655   \n",
       "3  Long Island City        Queens  Long Island City      Queens  2.255655   \n",
       "4  Long Island City        Queens  Long Island City      Queens  2.255655   \n",
       "\n",
       "      speed  \n",
       "0  6.220281  \n",
       "1  5.565471  \n",
       "2  8.694175  \n",
       "3  8.345693  \n",
       "4  9.291029  "
      ]
     },
     "execution_count": 20,
     "metadata": {},
     "output_type": "execute_result"
    }
   ],
   "source": [
    "CB_Data.head()"
   ]
  },
  {
   "cell_type": "markdown",
   "id": "4f912074",
   "metadata": {},
   "source": [
    "Get rid of extraneous column 'Unnamed: 0'."
   ]
  },
  {
   "cell_type": "code",
   "execution_count": 9,
   "id": "79ce10bb",
   "metadata": {},
   "outputs": [],
   "source": [
    "# CB_Data = CB_Data.drop('Unnamed: 0', axis=1)"
   ]
  },
  {
   "cell_type": "markdown",
   "id": "2598d270",
   "metadata": {},
   "source": [
    "It turns out that distance between two coordinates were improperly calculated. **Haversine** was used instead of **block distance**, which reflects the movement most found within a city with a rectangluar grid. This will fix that:"
   ]
  },
  {
   "cell_type": "code",
   "execution_count": 16,
   "id": "d9df4839",
   "metadata": {},
   "outputs": [],
   "source": [
    "# Conversion factor here:\n",
    "# https://www.usgs.gov/faqs/how-much-distance-does-degree-minute-and-second-cover-your-maps#:~:text=One%20degree%20of%20latitude%20equals,one%20second%20equals%2080%20feet.\n",
    "# CB_Data.distance = 69 * ( abs( CB_Data.start_lat - CB_Data.end_lat ) \n",
    "#                                   + abs( CB_Data.start_lng - CB_Data.end_lng ) )"
   ]
  },
  {
   "cell_type": "code",
   "execution_count": 19,
   "id": "a7917384",
   "metadata": {},
   "outputs": [],
   "source": [
    "# CB_Data.speed = CB_Data.distance / (CB_Data.duration / 60)"
   ]
  },
  {
   "cell_type": "markdown",
   "id": "d6e8fa23",
   "metadata": {},
   "source": [
    "Now, eliminate all instances of \"joy rides\", in which the rider docked the bike at the same station, either due to literally riding for fun or having a problem with the bike."
   ]
  },
  {
   "cell_type": "code",
   "execution_count": 42,
   "id": "95dbcfda",
   "metadata": {},
   "outputs": [
    {
     "data": {
      "text/plain": [
       "Int64Index([     258,      259,      260,      261,      262,      263,\n",
       "                 264,      265,      266,      267,\n",
       "            ...\n",
       "            28814993, 28814994, 28814995, 28814996, 28814997, 28814999,\n",
       "            28815001, 28815002, 28815003, 28815005],\n",
       "           dtype='int64', length=1542162)"
      ]
     },
     "execution_count": 42,
     "metadata": {},
     "output_type": "execute_result"
    }
   ],
   "source": [
    "# joy_rides = CB_Data.loc[CB_Data['start_station_name'] == CB_Data['end_station_name']]"
   ]
  },
  {
   "cell_type": "code",
   "execution_count": 43,
   "id": "fc60bd4b",
   "metadata": {},
   "outputs": [],
   "source": [
    "# CB_Data = CB_Data.drop(joy_rides.index)"
   ]
  },
  {
   "cell_type": "markdown",
   "id": "97443e52",
   "metadata": {},
   "source": [
    "Rule out the bikes that seem to come out of nowhere, if applicable"
   ]
  },
  {
   "cell_type": "code",
   "execution_count": 74,
   "id": "aed5f135",
   "metadata": {},
   "outputs": [],
   "source": [
    "# ghost_bikes = CB_Data.loc[CB_Data['start_station_name'] == 'Unknown']"
   ]
  },
  {
   "cell_type": "code",
   "execution_count": 76,
   "id": "3c11d849",
   "metadata": {},
   "outputs": [],
   "source": [
    "# CB_Data = CB_Data.drop(ghost_bikes.index)"
   ]
  },
  {
   "cell_type": "markdown",
   "id": "508d90d4",
   "metadata": {},
   "source": [
    "Now, rule out the missing bikes."
   ]
  },
  {
   "cell_type": "code",
   "execution_count": 77,
   "id": "048020b8",
   "metadata": {},
   "outputs": [],
   "source": [
    "# missing_bikes = CB_Data.loc[CB_Data['end_station_name'] == 'Unknown']"
   ]
  },
  {
   "cell_type": "code",
   "execution_count": 79,
   "id": "c8a1a798",
   "metadata": {},
   "outputs": [],
   "source": [
    "# CB_Data = CB_Data.drop(missing_bikes.index)"
   ]
  },
  {
   "cell_type": "markdown",
   "id": "496468ea",
   "metadata": {},
   "source": [
    "Finally, rule out the rides that were never completed, most likely to a rider changing their decision."
   ]
  },
  {
   "cell_type": "code",
   "execution_count": 53,
   "id": "2fe34872",
   "metadata": {},
   "outputs": [],
   "source": [
    "# no_rides = CB_Data.loc[CB_Data['duration'] == 0]"
   ]
  },
  {
   "cell_type": "code",
   "execution_count": 55,
   "id": "2b75a73d",
   "metadata": {},
   "outputs": [],
   "source": [
    "# CB_Data = CB_Data.drop(no_rides.index)"
   ]
  },
  {
   "cell_type": "markdown",
   "id": "a30822be",
   "metadata": {},
   "source": [
    "The issue in the R data analysis was the inability to calculate speed, due to null values in the duration. Therefore, as a final check, such a calculation shall be performed in order to assess the cleanliness of this dataframe so far:"
   ]
  },
  {
   "cell_type": "code",
   "execution_count": 57,
   "id": "a7c1f3d9",
   "metadata": {},
   "outputs": [],
   "source": [
    "# CB_Data['speed'] = CB_Data['distance'] / (0.0166667 * CB_Data['duration']) # in mph, convert min to hr at denom"
   ]
  },
  {
   "cell_type": "markdown",
   "id": "b9b72e4e",
   "metadata": {},
   "source": [
    "So far, so good. Now, the station names need cleanup through an iterative process"
   ]
  },
  {
   "cell_type": "code",
   "execution_count": 87,
   "id": "baba270b",
   "metadata": {},
   "outputs": [],
   "source": [
    "# nulls = CB_Data.loc[pd.isnull(CB_Data['CB_start_hood']) | pd.isnull(CB_Data['CB_end_hood'])]"
   ]
  },
  {
   "cell_type": "code",
   "execution_count": 88,
   "id": "5339f101",
   "metadata": {
    "scrolled": false
   },
   "outputs": [
    {
     "data": {
      "text/plain": [
       "2 Ave & E 29 St                63472\n",
       "8 Ave & W 16 St                63362\n",
       "W 44 St & 11 Ave               56702\n",
       "Forsyth St\\t& Grand St         53086\n",
       "6 Ave & W 45 St                53012\n",
       "                               ...  \n",
       "Lab - NYC                          7\n",
       "E 6 St 2 Ave                       6\n",
       "Avenue D & E 8 St                  3\n",
       "Grand Concourse & E 161  St        2\n",
       "Yankee Ferry Terminal              1\n",
       "Name: start_station_name, Length: 1592, dtype: int64"
      ]
     },
     "execution_count": 88,
     "metadata": {},
     "output_type": "execute_result"
    }
   ],
   "source": [
    "# nulls['start_station_name'].value_counts()"
   ]
  },
  {
   "cell_type": "code",
   "execution_count": 89,
   "id": "93c79839",
   "metadata": {},
   "outputs": [
    {
     "data": {
      "text/plain": [
       "8 Ave & W 16 St           63465\n",
       "2 Ave & E 29 St           62081\n",
       "Forsyth St\\t& Grand St    53520\n",
       "6 Ave & W 45 St           53259\n",
       "W 44 St & 11 Ave          52587\n",
       "                          ...  \n",
       "Brunswick St                  1\n",
       "Hudson St & 4 St              1\n",
       "StuyTown Depot                1\n",
       "Jackson Square                1\n",
       "Adams St & 2 St               1\n",
       "Name: end_station_name, Length: 1672, dtype: int64"
      ]
     },
     "execution_count": 89,
     "metadata": {},
     "output_type": "execute_result"
    }
   ],
   "source": [
    "# nulls['end_station_name'].value_counts()"
   ]
  },
  {
   "cell_type": "code",
   "execution_count": 86,
   "id": "95e05ce2",
   "metadata": {},
   "outputs": [
    {
     "name": "stderr",
     "output_type": "stream",
     "text": [
      "/Users/jchatterjee/opt/anaconda3/lib/python3.9/site-packages/pandas/core/indexing.py:1732: SettingWithCopyWarning: \n",
      "A value is trying to be set on a copy of a slice from a DataFrame\n",
      "\n",
      "See the caveats in the documentation: https://pandas.pydata.org/pandas-docs/stable/user_guide/indexing.html#returning-a-view-versus-a-copy\n",
      "  self._setitem_single_block(indexer, value, name)\n"
     ]
    }
   ],
   "source": [
    "# ques = ['Broadway & E 21 St','E 13 St & 2 Ave','Broadway & W 58 St','E 20 St & 2 Ave','5 Ave & E 72 St']\n",
    "# hood = ['Midtown East','East Village','Midtown West','Midtown East','Upper East Side']\n",
    "# boro = ['Manhattan','Manhattan','Manhattan','Manhattan','Manhattan']\n",
    "# zipped = zip(ques, hood, boro)\n",
    "\n",
    "# for q, h, b in zipped:\n",
    "#     CB_Data.CB_start_hood.loc[CB_Data.start_station_name == q] = h\n",
    "#     CB_Data.CB_start_boro.loc[CB_Data.start_station_name == q] = b\n",
    "#     CB_Data.CB_end_hood.loc[CB_Data.end_station_name == q] = h\n",
    "#     CB_Data.CB_end_boro.loc[CB_Data.end_station_name == q] = b"
   ]
  },
  {
   "cell_type": "code",
   "execution_count": 21,
   "id": "82a9a38d",
   "metadata": {
    "scrolled": true
   },
   "outputs": [],
   "source": [
    "# CB_Data.to_csv('CitiBike_data/202105-202204-citibike-trip-data.csv')"
   ]
  }
 ],
 "metadata": {
  "kernelspec": {
   "display_name": "Python 3 (ipykernel)",
   "language": "python",
   "name": "python3"
  },
  "language_info": {
   "codemirror_mode": {
    "name": "ipython",
    "version": 3
   },
   "file_extension": ".py",
   "mimetype": "text/x-python",
   "name": "python",
   "nbconvert_exporter": "python",
   "pygments_lexer": "ipython3",
   "version": "3.9.7"
  }
 },
 "nbformat": 4,
 "nbformat_minor": 5
}
