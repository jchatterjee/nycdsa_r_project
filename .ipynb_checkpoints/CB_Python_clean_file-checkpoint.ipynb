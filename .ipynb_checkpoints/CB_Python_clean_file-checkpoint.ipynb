{
 "cells": [
  {
   "cell_type": "markdown",
   "id": "6944509a",
   "metadata": {},
   "source": [
    "Since the user experienced problems with R, further data cleaning shall be performed in Python for efficiency."
   ]
  },
  {
   "cell_type": "markdown",
   "id": "3337704a",
   "metadata": {},
   "source": [
    "First, import relevant packages:"
   ]
  },
  {
   "cell_type": "code",
   "execution_count": 35,
   "id": "421a89e6",
   "metadata": {},
   "outputs": [],
   "source": [
    "import pandas as pd\n",
    "import numpy as np"
   ]
  },
  {
   "cell_type": "markdown",
   "id": "55d339c8",
   "metadata": {},
   "source": [
    "Next, load the CSV file into a dataframe:"
   ]
  },
  {
   "cell_type": "code",
   "execution_count": 2,
   "id": "4196c36b",
   "metadata": {},
   "outputs": [],
   "source": [
    "CB_Data = pd.read_csv('CitiBike_data/202105-202204-citibike-trip-data.csv', low_memory=False)"
   ]
  },
  {
   "cell_type": "markdown",
   "id": "7adcbfa0",
   "metadata": {},
   "source": [
    "Now, eliminate all instances of \"joy rides\", in which the rider docked the bike at the same station, either due to literally riding for fun or having a problem with the bike."
   ]
  },
  {
   "cell_type": "code",
   "execution_count": 42,
   "id": "708b9770",
   "metadata": {},
   "outputs": [
    {
     "data": {
      "text/plain": [
       "Int64Index([     258,      259,      260,      261,      262,      263,\n",
       "                 264,      265,      266,      267,\n",
       "            ...\n",
       "            28814993, 28814994, 28814995, 28814996, 28814997, 28814999,\n",
       "            28815001, 28815002, 28815003, 28815005],\n",
       "           dtype='int64', length=1542162)"
      ]
     },
     "execution_count": 42,
     "metadata": {},
     "output_type": "execute_result"
    }
   ],
   "source": [
    "joy_rides = CB_Data.loc[CB_Data['start_station_name'] == CB_Data['end_station_name']]"
   ]
  },
  {
   "cell_type": "code",
   "execution_count": 43,
   "id": "63fe04d1",
   "metadata": {},
   "outputs": [],
   "source": [
    "CB_Data = CB_Data.drop(joy_rides.index)"
   ]
  },
  {
   "cell_type": "markdown",
   "id": "9c76911b",
   "metadata": {},
   "source": [
    "Rule out the bikes that seem to come out of nowhere, if applicable"
   ]
  },
  {
   "cell_type": "code",
   "execution_count": 74,
   "id": "a9c3786e",
   "metadata": {},
   "outputs": [],
   "source": [
    "ghost_bikes = CB_Data.loc[CB_Data['start_station_name'] == 'Unknown']"
   ]
  },
  {
   "cell_type": "code",
   "execution_count": 76,
   "id": "651256d9",
   "metadata": {},
   "outputs": [],
   "source": [
    "CB_Data = CB_Data.drop(ghost_bikes.index)"
   ]
  },
  {
   "cell_type": "markdown",
   "id": "e30baa5e",
   "metadata": {},
   "source": [
    "Now, rule out the missing bikes."
   ]
  },
  {
   "cell_type": "code",
   "execution_count": 77,
   "id": "d951a1df",
   "metadata": {},
   "outputs": [],
   "source": [
    "missing_bikes = CB_Data.loc[CB_Data['end_station_name'] == 'Unknown']"
   ]
  },
  {
   "cell_type": "code",
   "execution_count": 79,
   "id": "958e52cb",
   "metadata": {},
   "outputs": [],
   "source": [
    "CB_Data = CB_Data.drop(missing_bikes.index)"
   ]
  },
  {
   "cell_type": "markdown",
   "id": "5a7851d0",
   "metadata": {},
   "source": [
    "Finally, rule out the rides that were never completed, most likely to a rider changing their decision."
   ]
  },
  {
   "cell_type": "code",
   "execution_count": 53,
   "id": "540f6786",
   "metadata": {},
   "outputs": [],
   "source": [
    "no_rides = CB_Data.loc[CB_Data['duration'] == 0]"
   ]
  },
  {
   "cell_type": "code",
   "execution_count": 55,
   "id": "31d9c8c4",
   "metadata": {},
   "outputs": [],
   "source": [
    "CB_Data = CB_Data.drop(no_rides.index)"
   ]
  },
  {
   "cell_type": "markdown",
   "id": "fe69e7ca",
   "metadata": {},
   "source": [
    "The issue in the R data analysis was the inability to calculate speed, due to null values in the duration. Therefore, as a final check, such a calculation shall be performed in order to assess the cleanliness of this dataframe so far:"
   ]
  },
  {
   "cell_type": "code",
   "execution_count": 57,
   "id": "c70e9f99",
   "metadata": {},
   "outputs": [],
   "source": [
    "CB_Data['speed'] = CB_Data['distance'] / (0.0166667 * CB_Data['duration']) # in mph, convert min to hr at denom"
   ]
  },
  {
   "cell_type": "markdown",
   "id": "9310169a",
   "metadata": {},
   "source": [
    "So far, so good. Now, the station names need cleanup through an iterative process"
   ]
  },
  {
   "cell_type": "code",
   "execution_count": 80,
   "id": "df5ff82b",
   "metadata": {},
   "outputs": [],
   "source": [
    "nulls = CB_Data.loc[pd.isnull(CB_Data['CB_start_hood']) | pd.isnull(CB_Data['CB_end_hood'])]"
   ]
  },
  {
   "cell_type": "code",
   "execution_count": 81,
   "id": "224257bd",
   "metadata": {
    "scrolled": false
   },
   "outputs": [
    {
     "data": {
      "text/plain": [
       "Broadway & E 21 St             73210\n",
       "E 13 St & 2 Ave                72727\n",
       "Broadway & W 58 St             72268\n",
       "E 20 St & 2 Ave                71916\n",
       "5 Ave & E 72 St                63593\n",
       "                               ...  \n",
       "Lab - NYC                          7\n",
       "E 6 St 2 Ave                       6\n",
       "Avenue D & E 8 St                  5\n",
       "Yankee Ferry Terminal              5\n",
       "Grand Concourse & E 161  St        2\n",
       "Name: start_station_name, Length: 1592, dtype: int64"
      ]
     },
     "execution_count": 81,
     "metadata": {},
     "output_type": "execute_result"
    }
   ],
   "source": [
    "nulls['start_station_name'].value_counts()"
   ]
  },
  {
   "cell_type": "code",
   "execution_count": 82,
   "id": "80251b82",
   "metadata": {},
   "outputs": [
    {
     "data": {
      "text/plain": [
       "Broadway & E 21 St                               73558\n",
       "E 13 St & 2 Ave                                  73436\n",
       "Broadway & W 58 St                               70765\n",
       "E 20 St & 2 Ave                                  70750\n",
       "5 Ave & E 72 St                                  64006\n",
       "                                                 ...  \n",
       "7 Ave & Bleecker St                                  1\n",
       "S 5th St & Kent Ave (Domino Park Movie Shoot)        1\n",
       "Hilltop                                              1\n",
       "JCBS Depot                                           1\n",
       "Adams St & 2 St                                      1\n",
       "Name: end_station_name, Length: 1672, dtype: int64"
      ]
     },
     "execution_count": 82,
     "metadata": {},
     "output_type": "execute_result"
    }
   ],
   "source": [
    "nulls['end_station_name'].value_counts()"
   ]
  },
  {
   "cell_type": "code",
   "execution_count": 85,
   "id": "a13a0ffe",
   "metadata": {},
   "outputs": [
    {
     "data": {
      "text/plain": [
       "5902496     NaN\n",
       "5902500     NaN\n",
       "5902940     NaN\n",
       "5902941     NaN\n",
       "5904070     NaN\n",
       "           ... \n",
       "28813905    NaN\n",
       "28813906    NaN\n",
       "28813921    NaN\n",
       "28813922    NaN\n",
       "28813924    NaN\n",
       "Name: CB_start_hood, Length: 73210, dtype: object"
      ]
     },
     "execution_count": 85,
     "metadata": {},
     "output_type": "execute_result"
    }
   ],
   "source": [
    "ques = ['Broadway & E 21 St','E 13 St & 2 Ave','Broadway & W 58 St','E 20 St & 2 Ave','5 Ave & E 72 St']\n",
    "hood = ['Midtown East','East Village','Midtown West','Midtown East','Upper East Side']\n",
    "boro = ['Manhattan','Manhattan','Manhattan','Manhattan','Manhattan']\n",
    "zipped = zip(ques, hood, boro)\n",
    "\n",
    "for q, h, b in zipped:\n",
    "    CB_Data.CB_start_hood.loc[CB_Data.start_station_name == q] = h\n",
    "    CB_Data.CB_start_boro.loc[CB_Data.start_station_name == q] = b\n",
    "    CB_Data.CB_end_hood.loc[CB_Data.end_station_name == q] = h\n",
    "    CB_Data.CB_end_boro.loc[CB_Data.end_station_name == q] = b"
   ]
  },
  {
   "cell_type": "code",
   "execution_count": null,
   "id": "9314f1e7",
   "metadata": {},
   "outputs": [],
   "source": [
    "[]"
   ]
  }
 ],
 "metadata": {
  "kernelspec": {
   "display_name": "Python 3 (ipykernel)",
   "language": "python",
   "name": "python3"
  },
  "language_info": {
   "codemirror_mode": {
    "name": "ipython",
    "version": 3
   },
   "file_extension": ".py",
   "mimetype": "text/x-python",
   "name": "python",
   "nbconvert_exporter": "python",
   "pygments_lexer": "ipython3",
   "version": "3.9.7"
  }
 },
 "nbformat": 4,
 "nbformat_minor": 5
}
