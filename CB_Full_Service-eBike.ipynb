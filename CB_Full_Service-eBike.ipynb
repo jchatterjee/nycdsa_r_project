{
 "cells": [
  {
   "cell_type": "markdown",
   "id": "a924fe81",
   "metadata": {},
   "source": [
    "# To eBike or Not to eBike?"
   ]
  },
  {
   "cell_type": "markdown",
   "id": "be3210eb",
   "metadata": {},
   "source": [
    "This notebook shall perform all the functions that the ones written for combining, cleaning, feature engineering (preliminary), geolocation, and feature engineering (final) files are designed to do for efficiency, given the knowledge of the workflow that has been established."
   ]
  },
  {
   "cell_type": "markdown",
   "id": "465928b9",
   "metadata": {},
   "source": [
    "## Specifically for eBike Study"
   ]
  },
  {
   "cell_type": "markdown",
   "id": "24c225d5",
   "metadata": {},
   "source": [
    "**This notebook shall create a combined dataset for NYC CitiBike rides one month into the future from that of the general study in the capstone project, due to better data gathered regaring electric bike usage during this time frame.**"
   ]
  },
  {
   "cell_type": "markdown",
   "id": "356cb140",
   "metadata": {},
   "source": [
    "<a id=toc></a>\n",
    "## Table of Contents\n",
    "\n",
    "<ul>\n",
    "    <li><a href=#01-import-packages>Import Packages</a>\n",
    "    <li><a href=#02-load-dataset>Load Datasets and Clean Data</a>\n",
    "    <li><a href=#03-conv-stamps>Convert Timestamps to pandas Format</a>\n",
    "    <li><a href=#04-geoloc-stations>Geolocate Stations</a>\n",
    "    <li><a href=#05-calc-values>Calculate Distance and Speed</a>\n",
    "    <li><a href=#06-feat-eng>Perform Feature Engineering</a>\n",
    "    <li><a href=#07-final-check>Perform Final Check</a>\n",
    "    <li><a href=#08-save-file>Save Fully Cleaned DataFrame to .parquet</a>\n",
    "</ul>"
   ]
  },
  {
   "cell_type": "markdown",
   "id": "e49e8967",
   "metadata": {},
   "source": [
    "<a id=01-import-packages></a>\n",
    "## Import Packages"
   ]
  },
  {
   "cell_type": "markdown",
   "id": "231e1b6f",
   "metadata": {},
   "source": [
    "Import necessary packages."
   ]
  },
  {
   "cell_type": "code",
   "execution_count": 1,
   "id": "324c3ef2",
   "metadata": {},
   "outputs": [],
   "source": [
    "# Apache parquet files (to save space)\n",
    "import pyarrow as pa\n",
    "import pyarrow.parquet as pq\n",
    "\n",
    "# Dataframes and numerical\n",
    "import pandas as pd\n",
    "import numpy as np\n",
    "\n",
    "# Geolocation\n",
    "import geopandas as gpd\n",
    "import matplotlib.pyplot as plt\n",
    "\n",
    "# Increase pandas default display \n",
    "pd.options.display.max_rows = 250\n",
    "pd.options.display.max_columns = 250\n",
    "\n",
    "# Suppress warnings\n",
    "import warnings\n",
    "warnings.filterwarnings('ignore')"
   ]
  },
  {
   "cell_type": "markdown",
   "id": "51ee8641",
   "metadata": {},
   "source": [
    "<a href=#toc>Back to the top</a>"
   ]
  },
  {
   "cell_type": "markdown",
   "id": "7d45418f",
   "metadata": {},
   "source": [
    "<a id=02-load-dataset></a>\n",
    "## Load Datasets and Clean Data"
   ]
  },
  {
   "cell_type": "markdown",
   "id": "68fe4eac",
   "metadata": {},
   "source": [
    "Load CSV files for months and years into their own dataframes and combine them."
   ]
  },
  {
   "cell_type": "code",
   "execution_count": 2,
   "id": "46b2c1c5",
   "metadata": {},
   "outputs": [],
   "source": [
    "CB_01 = pd.read_csv('CitiBike_data/Raw/New_Format/202106-citibike-tripdata.csv', low_memory=False)\n",
    "CB_02 = pd.read_csv('CitiBike_data/Raw/New_Format/202107-citibike-tripdata.csv', low_memory=False)\n",
    "CB_03 = pd.read_csv('CitiBike_data/Raw/New_Format/202108-citibike-tripdata.csv', low_memory=False)\n",
    "CB_04 = pd.read_csv('CitiBike_data/Raw/New_Format/202109-citibike-tripdata.csv', low_memory=False)\n",
    "CB_05 = pd.read_csv('CitiBike_data/Raw/New_Format/202110-citibike-tripdata.csv', low_memory=False)\n",
    "CB_06 = pd.read_csv('CitiBike_data/Raw/New_Format/202111-citibike-tripdata.csv', low_memory=False)\n",
    "CB_07 = pd.read_csv('CitiBike_data/Raw/New_Format/202112-citibike-tripdata.csv', low_memory=False)\n",
    "CB_08 = pd.read_csv('CitiBike_data/Raw/New_Format/202201-citibike-tripdata.csv', low_memory=False)\n",
    "CB_09 = pd.read_csv('CitiBike_data/Raw/New_Format/202202-citibike-tripdata.csv', low_memory=False)\n",
    "CB_10 = pd.read_csv('CitiBike_data/Raw/New_Format/202203-citibike-tripdata.csv', low_memory=False)\n",
    "CB_11 = pd.read_csv('CitiBike_data/Raw/New_Format/202204-citibike-tripdata.csv', low_memory=False)\n",
    "CB_12 = pd.read_csv('CitiBike_data/Raw/New_Format/202205-citibike-tripdata.csv', low_memory=False)\n",
    "\n",
    "months = [CB_01, CB_02, CB_03, CB_04, CB_05, CB_06, CB_07, CB_08, CB_09, CB_10, CB_11, CB_12]\n",
    "\n",
    "CB_Data = pd.concat(months, ignore_index=True, sort=False)"
   ]
  },
  {
   "cell_type": "markdown",
   "id": "f2e1e2e3",
   "metadata": {},
   "source": [
    "Drop columns that are not relevant."
   ]
  },
  {
   "cell_type": "code",
   "execution_count": 3,
   "id": "56b8dd26",
   "metadata": {},
   "outputs": [],
   "source": [
    "drop_col = ['ride_id', 'start_station_id', 'end_station_id']\n",
    "CB_Data = CB_Data.drop(axis = 1, columns = drop_col)"
   ]
  },
  {
   "cell_type": "markdown",
   "id": "03c4169f",
   "metadata": {},
   "source": [
    "Count total number of rides during that time frame (June 2021 through May 2021)."
   ]
  },
  {
   "cell_type": "code",
   "execution_count": 4,
   "id": "7d8a4886",
   "metadata": {},
   "outputs": [],
   "source": [
    "no_rides = len(CB_Data)"
   ]
  },
  {
   "cell_type": "markdown",
   "id": "0d17f96d",
   "metadata": {},
   "source": [
    "Check for null values."
   ]
  },
  {
   "cell_type": "code",
   "execution_count": 5,
   "id": "9e5b71b8",
   "metadata": {},
   "outputs": [
    {
     "name": "stdout",
     "output_type": "stream",
     "text": [
      "Total number of Citibike rides from June 2021 through May 2022: 29032983\n",
      "Total number of \"ghost bikes\" in that time frame: 245\n",
      "Total number of lost bikes in that time frame: 102300\n",
      "Total number of bikes being docked at the same location in that time frame: 1549785\n",
      "Total number of \"dud rides\" to be removed from data: 1652330\n",
      "Percentage of rides from June 2021 through May 2022 with bikes missing:       0.35320173610820493\n",
      "Percentage of rides from June 2021 through May 2022 with bikes docked at the same location:       5.338015043097707\n",
      "Total number of \"dud rides\" to be removed from data:       5.691216779205912\n"
     ]
    }
   ],
   "source": [
    "# \"Ghost bikes\" coming in from unknown locations\n",
    "bike_ghos = CB_Data.loc[pd.isnull(CB_Data.start_station_name)]\n",
    "no_bike_ghos = len(bike_ghos)\n",
    "\n",
    "# Bikes that are lost, i.e. not docked at the end\n",
    "bike_lost = CB_Data.loc[pd.isnull(CB_Data.end_station_name)]\n",
    "no_bike_lost = len(bike_lost)\n",
    "\n",
    "# Bikes that are docked at the same station they are picked up, for joyride, rider changing mind, defective bike, etc.\n",
    "bike_joyr = CB_Data.loc[CB_Data.start_station_name == CB_Data.end_station_name]\n",
    "no_bike_joyr = len(bike_joyr)\n",
    "\n",
    "print(f'Total number of Citibike rides from June 2021 through May 2022: {no_rides}')\n",
    "print(f'Total number of \"ghost bikes\" in that time frame: {no_bike_ghos}')\n",
    "print(f'Total number of lost bikes in that time frame: {no_bike_lost}')\n",
    "print(f'Total number of bikes being docked at the same location in that time frame: {no_bike_joyr}')\n",
    "print(f'Total number of \"dud rides\" to be removed from data: {no_bike_ghos + no_bike_lost + no_bike_joyr}')\n",
    "\n",
    "print(f'Percentage of rides from June 2021 through May 2022 with bikes missing: \\\n",
    "      {100*(no_bike_ghos + no_bike_lost)/no_rides}')\n",
    "print(f'Percentage of rides from June 2021 through May 2022 with bikes docked at the same location: \\\n",
    "      {100*no_bike_joyr/no_rides}')\n",
    "print(f'Total number of \"dud rides\" to be removed from data: \\\n",
    "      {100*(no_bike_ghos + no_bike_lost + no_bike_joyr)/no_rides}')"
   ]
  },
  {
   "cell_type": "markdown",
   "id": "a475f46c",
   "metadata": {},
   "source": [
    "Now, eliminate these \"dud rides\" once and for all."
   ]
  },
  {
   "cell_type": "code",
   "execution_count": 6,
   "id": "1a00e1c0",
   "metadata": {},
   "outputs": [],
   "source": [
    "dud_rides = bike_ghos.index.tolist() + bike_lost.index.tolist() + bike_joyr.index.tolist()\n",
    "\n",
    "CB_Data = CB_Data.drop(axis = 0, index = dud_rides)"
   ]
  },
  {
   "cell_type": "code",
   "execution_count": 7,
   "id": "4b515c49",
   "metadata": {},
   "outputs": [
    {
     "name": "stdout",
     "output_type": "stream",
     "text": [
      "Total number of rides to work with after clearning: 27380897\n"
     ]
    }
   ],
   "source": [
    "print(f'Total number of rides to work with after clearning: {len(CB_Data)}')"
   ]
  },
  {
   "cell_type": "markdown",
   "id": "4a5852f0",
   "metadata": {},
   "source": [
    "Make sure that all the values of **rideable_type** are consistent. In other words, **docked_bike** = **classic_bike**."
   ]
  },
  {
   "cell_type": "code",
   "execution_count": 8,
   "id": "317d830d",
   "metadata": {},
   "outputs": [],
   "source": [
    "CB_Data.rideable_type.loc[CB_Data.rideable_type == 'classic_bike'] = 'Classic Bike'\n",
    "CB_Data.rideable_type.loc[CB_Data.rideable_type == 'docked_bike'] = 'Classic Bike'\n",
    "CB_Data.rideable_type.loc[CB_Data.rideable_type == 'electric_bike'] = 'Electric Bike'"
   ]
  },
  {
   "cell_type": "markdown",
   "id": "db910b4b",
   "metadata": {},
   "source": [
    "Capitalize **member_casual** entries."
   ]
  },
  {
   "cell_type": "code",
   "execution_count": 9,
   "id": "8336c2fc",
   "metadata": {},
   "outputs": [],
   "source": [
    "CB_Data.member_casual.loc[CB_Data.member_casual == 'member'] = 'Member'\n",
    "CB_Data.member_casual.loc[CB_Data.member_casual == 'casual'] = 'Casual'"
   ]
  },
  {
   "cell_type": "markdown",
   "id": "6985b908",
   "metadata": {},
   "source": [
    "<a href=#toc>Back to the top</a>"
   ]
  },
  {
   "cell_type": "markdown",
   "id": "afcaaa5b",
   "metadata": {},
   "source": [
    "<a id=03-conv-stamps></a>\n",
    "## Convert Timestamps Strings to pandas Format"
   ]
  },
  {
   "cell_type": "markdown",
   "id": "b793d726",
   "metadata": {},
   "source": [
    "Convert to timestamps from strings to actual timestamp data types in order to work for extracting date and time information from them to be used as features, as well as calculating ride durations."
   ]
  },
  {
   "cell_type": "code",
   "execution_count": 10,
   "id": "57a0ced4",
   "metadata": {},
   "outputs": [],
   "source": [
    "# From https://dataindependent.com/pandas/pandas-to-datetime-string-to-date-pd-to_datetime/\n",
    "CB_Data.started_at = pd.to_datetime(CB_Data.started_at, format=\"%Y-%m-%d %H:%M:%S\")\n",
    "CB_Data.ended_at = pd.to_datetime(CB_Data.ended_at, format=\"%Y-%m-%d %H:%M:%S\")"
   ]
  },
  {
   "cell_type": "markdown",
   "id": "a5fd0711",
   "metadata": {},
   "source": [
    "<a href=#toc>Back to the top</a>"
   ]
  },
  {
   "cell_type": "markdown",
   "id": "5f5a4f8c",
   "metadata": {},
   "source": [
    "<a id=04-geoloc-stations></a>\n",
    "## Geolocate Stations"
   ]
  },
  {
   "cell_type": "markdown",
   "id": "1e13f955",
   "metadata": {},
   "source": [
    "Since the heavy lifting associated with creating a master file of all stations in the CitiBike system have already been completed, just import it from its .parquet file at this point."
   ]
  },
  {
   "cell_type": "code",
   "execution_count": 11,
   "id": "20988464",
   "metadata": {},
   "outputs": [],
   "source": [
    "CB_Stations = pq.read_table('CitiBike_data/202206-citibike-stations.parquet').to_pandas()"
   ]
  },
  {
   "cell_type": "markdown",
   "id": "183f41dd",
   "metadata": {},
   "source": [
    "In order to normalize all coordinates of the distinct stations as well as the travel distances, durations, and speeds between the various stations; the averaged latitudes and longitudes of the dataframe **CB_Stations** shall replace those provided in the **CB_Data** one in addition to assigning borough and neighboorhood associations."
   ]
  },
  {
   "cell_type": "code",
   "execution_count": 12,
   "id": "18ea14ef",
   "metadata": {},
   "outputs": [],
   "source": [
    "# Join CB_Data with CB_Stations\n",
    "# Replace old coordinates with new ones\n",
    "CB_Data = CB_Data.join(CB_Stations, on='start_station_name', how='right')\n",
    "CB_Data = CB_Data.drop(columns=['start_lat', 'start_lng'])\n",
    "CB_Data = CB_Data.rename(columns={'lat': 'start_lat', 'lng': 'start_lng', 'boro': 'start_boro', 'hood': 'start_hood'})\n",
    "CB_Data = CB_Data.join(CB_Stations, on='end_station_name', how='right')\n",
    "CB_Data = CB_Data.drop(columns=['end_lat', 'end_lng'])\n",
    "CB_Data = CB_Data.rename(columns={'lat': 'end_lat', 'lng': 'end_lng', 'boro': 'end_boro', 'hood': 'end_hood'})"
   ]
  },
  {
   "cell_type": "markdown",
   "id": "f06c2fcf",
   "metadata": {},
   "source": [
    "Sort by index values."
   ]
  },
  {
   "cell_type": "code",
   "execution_count": 13,
   "id": "ccb934eb",
   "metadata": {},
   "outputs": [],
   "source": [
    "CB_Data = CB_Data.sort_index(ascending=True)"
   ]
  },
  {
   "cell_type": "markdown",
   "id": "3bf903f5",
   "metadata": {},
   "source": [
    "Drop any **NaN** values in the new dataframe."
   ]
  },
  {
   "cell_type": "code",
   "execution_count": 14,
   "id": "3f3c9754",
   "metadata": {},
   "outputs": [],
   "source": [
    "CB_Data = CB_Data.dropna(axis=0)"
   ]
  },
  {
   "cell_type": "markdown",
   "id": "accb6a13",
   "metadata": {},
   "source": [
    "Reconvert index in dataframe to integer."
   ]
  },
  {
   "cell_type": "code",
   "execution_count": 15,
   "id": "54b23e0c",
   "metadata": {},
   "outputs": [],
   "source": [
    "CB_Data.index = CB_Data.index.astype('int64')"
   ]
  },
  {
   "cell_type": "markdown",
   "id": "44588a0f",
   "metadata": {},
   "source": [
    "<a href=#toc>Back to the top</a>"
   ]
  },
  {
   "cell_type": "markdown",
   "id": "ba80e8e7",
   "metadata": {},
   "source": [
    "<a id=05-calc-values></a>\n",
    "## Calculate Distance and Speed"
   ]
  },
  {
   "cell_type": "markdown",
   "id": "f954ff75",
   "metadata": {},
   "source": [
    "Calculate (Manhattan) distance and speed with normalized coordinates."
   ]
  },
  {
   "cell_type": "code",
   "execution_count": 16,
   "id": "db723a09",
   "metadata": {},
   "outputs": [],
   "source": [
    "# Conversion factor here:\n",
    "# https://www.usgs.gov/faqs/how-much-distance-does-degree-minute-and-second-cover-your-maps#:~:text=One%20degree%20of%20latitude%20equals,one%20second%20equals%2080%20feet.\n",
    "CB_Data['distance_mi'] = 69 * ( abs( CB_Data.start_lat - CB_Data.end_lat ) \n",
    "                                  + abs( CB_Data.start_lng - CB_Data.end_lng ) )\n",
    "CB_Data['duration_min'] = (CB_Data.ended_at - CB_Data.started_at)/np.timedelta64(1,'m')\n",
    "CB_Data['speed_mph'] = CB_Data.distance_mi / (CB_Data.duration_min / 60)"
   ]
  },
  {
   "cell_type": "markdown",
   "id": "c8105e17",
   "metadata": {},
   "source": [
    "<a href=#toc>Back to the top</a>"
   ]
  },
  {
   "cell_type": "markdown",
   "id": "ca44a9e8",
   "metadata": {},
   "source": [
    "<a id=06-feat-eng></a>\n",
    "## Perform Feature Engineering"
   ]
  },
  {
   "cell_type": "markdown",
   "id": "aa4ee453",
   "metadata": {},
   "source": [
    "With the lengthy computations completed, dummify various values based on the timestamp."
   ]
  },
  {
   "cell_type": "code",
   "execution_count": 17,
   "id": "bdc25f14",
   "metadata": {},
   "outputs": [],
   "source": [
    "CB_Data['year'] = CB_Data.started_at.dt.year\n",
    "CB_Data['month'] = CB_Data.started_at.dt.month\n",
    "CB_Data['week_of_year'] = CB_Data.started_at.dt.week\n",
    "CB_Data['day_of_week'] = CB_Data.started_at.dt.day_of_week\n",
    "CB_Data['hour_of_day'] = CB_Data.started_at.dt.hour"
   ]
  },
  {
   "cell_type": "markdown",
   "id": "3ffc16b5",
   "metadata": {},
   "source": [
    "Ensure that nominal dummy values are integers."
   ]
  },
  {
   "cell_type": "code",
   "execution_count": 18,
   "id": "0c198c29",
   "metadata": {},
   "outputs": [],
   "source": [
    "CB_Data = CB_Data.astype({'year': int, 'month': int, 'week_of_year': int,\n",
    "                                  'day_of_week': int, 'hour_of_day': int})"
   ]
  },
  {
   "cell_type": "markdown",
   "id": "bd42cfb5",
   "metadata": {},
   "source": [
    "Reindex columns for readability."
   ]
  },
  {
   "cell_type": "code",
   "execution_count": 19,
   "id": "ebd71a0c",
   "metadata": {},
   "outputs": [],
   "source": [
    "col_names = ['member_casual', 'rideable_type',\n",
    "             'started_at', 'start_station_name', 'start_lat', 'start_lng', 'start_boro', 'start_hood',\n",
    "             'ended_at', 'end_station_name', 'end_lat', 'end_lng', 'end_boro', 'end_hood',\n",
    "             'year', 'month', 'week_of_year', 'day_of_week', 'hour_of_day',\n",
    "             'duration_min', 'distance_mi', 'speed_mph']\n",
    "CB_Data = CB_Data.reindex(columns=col_names)"
   ]
  },
  {
   "cell_type": "markdown",
   "id": "8b88fb84",
   "metadata": {},
   "source": [
    "<a href=#toc>Back to the top</a>"
   ]
  },
  {
   "cell_type": "markdown",
   "id": "a3ca2859",
   "metadata": {},
   "source": [
    "<a id=07-final-check></a>\n",
    "## Perform Final Check"
   ]
  },
  {
   "cell_type": "markdown",
   "id": "c303051d",
   "metadata": {},
   "source": [
    "Perform a final check of the structure and integrity of the dataframe before finally writing it to a .parquet file."
   ]
  },
  {
   "cell_type": "code",
   "execution_count": 20,
   "id": "f2869dee",
   "metadata": {},
   "outputs": [
    {
     "data": {
      "text/html": [
       "<div>\n",
       "<style scoped>\n",
       "    .dataframe tbody tr th:only-of-type {\n",
       "        vertical-align: middle;\n",
       "    }\n",
       "\n",
       "    .dataframe tbody tr th {\n",
       "        vertical-align: top;\n",
       "    }\n",
       "\n",
       "    .dataframe thead th {\n",
       "        text-align: right;\n",
       "    }\n",
       "</style>\n",
       "<table border=\"1\" class=\"dataframe\">\n",
       "  <thead>\n",
       "    <tr style=\"text-align: right;\">\n",
       "      <th></th>\n",
       "      <th>member_casual</th>\n",
       "      <th>rideable_type</th>\n",
       "      <th>started_at</th>\n",
       "      <th>start_station_name</th>\n",
       "      <th>start_lat</th>\n",
       "      <th>start_lng</th>\n",
       "      <th>start_boro</th>\n",
       "      <th>start_hood</th>\n",
       "      <th>ended_at</th>\n",
       "      <th>end_station_name</th>\n",
       "      <th>end_lat</th>\n",
       "      <th>end_lng</th>\n",
       "      <th>end_boro</th>\n",
       "      <th>end_hood</th>\n",
       "      <th>year</th>\n",
       "      <th>month</th>\n",
       "      <th>week_of_year</th>\n",
       "      <th>day_of_week</th>\n",
       "      <th>hour_of_day</th>\n",
       "      <th>duration_min</th>\n",
       "      <th>distance_mi</th>\n",
       "      <th>speed_mph</th>\n",
       "    </tr>\n",
       "  </thead>\n",
       "  <tbody>\n",
       "    <tr>\n",
       "      <th>0</th>\n",
       "      <td>Member</td>\n",
       "      <td>Classic Bike</td>\n",
       "      <td>2021-06-01 23:12:34</td>\n",
       "      <td>Driggs Ave &amp; N 9 St</td>\n",
       "      <td>40.718170</td>\n",
       "      <td>-73.955201</td>\n",
       "      <td>Brooklyn</td>\n",
       "      <td>Williamsburg</td>\n",
       "      <td>2021-06-01 23:14:46</td>\n",
       "      <td>Bayard St &amp; Leonard St</td>\n",
       "      <td>40.719156</td>\n",
       "      <td>-73.948855</td>\n",
       "      <td>Brooklyn</td>\n",
       "      <td>Greenpoint</td>\n",
       "      <td>2021</td>\n",
       "      <td>6</td>\n",
       "      <td>22</td>\n",
       "      <td>1</td>\n",
       "      <td>23</td>\n",
       "      <td>2.200000</td>\n",
       "      <td>0.505940</td>\n",
       "      <td>13.798369</td>\n",
       "    </tr>\n",
       "    <tr>\n",
       "      <th>1</th>\n",
       "      <td>Casual</td>\n",
       "      <td>Classic Bike</td>\n",
       "      <td>2021-06-16 17:14:56</td>\n",
       "      <td>Fulton St &amp; Broadway</td>\n",
       "      <td>40.711066</td>\n",
       "      <td>-74.009447</td>\n",
       "      <td>Manhattan</td>\n",
       "      <td>Financial District</td>\n",
       "      <td>2021-06-16 17:29:15</td>\n",
       "      <td>Mercer St &amp; Spring St</td>\n",
       "      <td>40.723627</td>\n",
       "      <td>-73.999496</td>\n",
       "      <td>Manhattan</td>\n",
       "      <td>SoHo</td>\n",
       "      <td>2021</td>\n",
       "      <td>6</td>\n",
       "      <td>24</td>\n",
       "      <td>2</td>\n",
       "      <td>17</td>\n",
       "      <td>14.316667</td>\n",
       "      <td>1.553374</td>\n",
       "      <td>6.510067</td>\n",
       "    </tr>\n",
       "    <tr>\n",
       "      <th>2</th>\n",
       "      <td>Casual</td>\n",
       "      <td>Classic Bike</td>\n",
       "      <td>2021-06-07 19:41:55</td>\n",
       "      <td>Devoe St &amp; Lorimer St</td>\n",
       "      <td>40.713352</td>\n",
       "      <td>-73.949103</td>\n",
       "      <td>Brooklyn</td>\n",
       "      <td>Williamsburg</td>\n",
       "      <td>2021-06-07 19:51:28</td>\n",
       "      <td>Manhattan Av &amp; Leonard St</td>\n",
       "      <td>40.720840</td>\n",
       "      <td>-73.948440</td>\n",
       "      <td>Brooklyn</td>\n",
       "      <td>Greenpoint</td>\n",
       "      <td>2021</td>\n",
       "      <td>6</td>\n",
       "      <td>23</td>\n",
       "      <td>0</td>\n",
       "      <td>19</td>\n",
       "      <td>9.550000</td>\n",
       "      <td>0.562410</td>\n",
       "      <td>3.533465</td>\n",
       "    </tr>\n",
       "    <tr>\n",
       "      <th>3</th>\n",
       "      <td>Member</td>\n",
       "      <td>Electric Bike</td>\n",
       "      <td>2021-06-17 15:13:15</td>\n",
       "      <td>Driggs Ave &amp; N 9 St</td>\n",
       "      <td>40.718170</td>\n",
       "      <td>-73.955201</td>\n",
       "      <td>Brooklyn</td>\n",
       "      <td>Williamsburg</td>\n",
       "      <td>2021-06-17 15:33:25</td>\n",
       "      <td>Greenwich Ave &amp; Charles St</td>\n",
       "      <td>40.735238</td>\n",
       "      <td>-74.000271</td>\n",
       "      <td>Manhattan</td>\n",
       "      <td>West Village</td>\n",
       "      <td>2021</td>\n",
       "      <td>6</td>\n",
       "      <td>24</td>\n",
       "      <td>3</td>\n",
       "      <td>15</td>\n",
       "      <td>20.166667</td>\n",
       "      <td>4.287502</td>\n",
       "      <td>12.756204</td>\n",
       "    </tr>\n",
       "    <tr>\n",
       "      <th>4</th>\n",
       "      <td>Member</td>\n",
       "      <td>Electric Bike</td>\n",
       "      <td>2021-06-18 08:27:03</td>\n",
       "      <td>Graham Ave &amp; Conselyea St</td>\n",
       "      <td>40.715143</td>\n",
       "      <td>-73.944507</td>\n",
       "      <td>Brooklyn</td>\n",
       "      <td>Williamsburg</td>\n",
       "      <td>2021-06-18 08:53:37</td>\n",
       "      <td>E 30 St &amp; Park Ave S</td>\n",
       "      <td>40.744449</td>\n",
       "      <td>-73.983035</td>\n",
       "      <td>Manhattan</td>\n",
       "      <td>Midtown</td>\n",
       "      <td>2021</td>\n",
       "      <td>6</td>\n",
       "      <td>24</td>\n",
       "      <td>4</td>\n",
       "      <td>8</td>\n",
       "      <td>26.566667</td>\n",
       "      <td>4.680605</td>\n",
       "      <td>10.571003</td>\n",
       "    </tr>\n",
       "  </tbody>\n",
       "</table>\n",
       "</div>"
      ],
      "text/plain": [
       "  member_casual  rideable_type          started_at         start_station_name  \\\n",
       "0        Member   Classic Bike 2021-06-01 23:12:34        Driggs Ave & N 9 St   \n",
       "1        Casual   Classic Bike 2021-06-16 17:14:56       Fulton St & Broadway   \n",
       "2        Casual   Classic Bike 2021-06-07 19:41:55      Devoe St & Lorimer St   \n",
       "3        Member  Electric Bike 2021-06-17 15:13:15        Driggs Ave & N 9 St   \n",
       "4        Member  Electric Bike 2021-06-18 08:27:03  Graham Ave & Conselyea St   \n",
       "\n",
       "   start_lat  start_lng start_boro          start_hood            ended_at  \\\n",
       "0  40.718170 -73.955201   Brooklyn        Williamsburg 2021-06-01 23:14:46   \n",
       "1  40.711066 -74.009447  Manhattan  Financial District 2021-06-16 17:29:15   \n",
       "2  40.713352 -73.949103   Brooklyn        Williamsburg 2021-06-07 19:51:28   \n",
       "3  40.718170 -73.955201   Brooklyn        Williamsburg 2021-06-17 15:33:25   \n",
       "4  40.715143 -73.944507   Brooklyn        Williamsburg 2021-06-18 08:53:37   \n",
       "\n",
       "             end_station_name    end_lat    end_lng   end_boro      end_hood  \\\n",
       "0      Bayard St & Leonard St  40.719156 -73.948855   Brooklyn    Greenpoint   \n",
       "1       Mercer St & Spring St  40.723627 -73.999496  Manhattan          SoHo   \n",
       "2   Manhattan Av & Leonard St  40.720840 -73.948440   Brooklyn    Greenpoint   \n",
       "3  Greenwich Ave & Charles St  40.735238 -74.000271  Manhattan  West Village   \n",
       "4        E 30 St & Park Ave S  40.744449 -73.983035  Manhattan       Midtown   \n",
       "\n",
       "   year  month  week_of_year  day_of_week  hour_of_day  duration_min  \\\n",
       "0  2021      6            22            1           23      2.200000   \n",
       "1  2021      6            24            2           17     14.316667   \n",
       "2  2021      6            23            0           19      9.550000   \n",
       "3  2021      6            24            3           15     20.166667   \n",
       "4  2021      6            24            4            8     26.566667   \n",
       "\n",
       "   distance_mi  speed_mph  \n",
       "0     0.505940  13.798369  \n",
       "1     1.553374   6.510067  \n",
       "2     0.562410   3.533465  \n",
       "3     4.287502  12.756204  \n",
       "4     4.680605  10.571003  "
      ]
     },
     "execution_count": 20,
     "metadata": {},
     "output_type": "execute_result"
    }
   ],
   "source": [
    "CB_Data.head()"
   ]
  },
  {
   "cell_type": "code",
   "execution_count": 21,
   "id": "b41e4403",
   "metadata": {},
   "outputs": [
    {
     "data": {
      "text/html": [
       "<div>\n",
       "<style scoped>\n",
       "    .dataframe tbody tr th:only-of-type {\n",
       "        vertical-align: middle;\n",
       "    }\n",
       "\n",
       "    .dataframe tbody tr th {\n",
       "        vertical-align: top;\n",
       "    }\n",
       "\n",
       "    .dataframe thead th {\n",
       "        text-align: right;\n",
       "    }\n",
       "</style>\n",
       "<table border=\"1\" class=\"dataframe\">\n",
       "  <thead>\n",
       "    <tr style=\"text-align: right;\">\n",
       "      <th></th>\n",
       "      <th>member_casual</th>\n",
       "      <th>rideable_type</th>\n",
       "      <th>started_at</th>\n",
       "      <th>start_station_name</th>\n",
       "      <th>start_lat</th>\n",
       "      <th>start_lng</th>\n",
       "      <th>start_boro</th>\n",
       "      <th>start_hood</th>\n",
       "      <th>ended_at</th>\n",
       "      <th>end_station_name</th>\n",
       "      <th>end_lat</th>\n",
       "      <th>end_lng</th>\n",
       "      <th>end_boro</th>\n",
       "      <th>end_hood</th>\n",
       "      <th>year</th>\n",
       "      <th>month</th>\n",
       "      <th>week_of_year</th>\n",
       "      <th>day_of_week</th>\n",
       "      <th>hour_of_day</th>\n",
       "      <th>duration_min</th>\n",
       "      <th>distance_mi</th>\n",
       "      <th>speed_mph</th>\n",
       "    </tr>\n",
       "  </thead>\n",
       "  <tbody>\n",
       "    <tr>\n",
       "      <th>29032978</th>\n",
       "      <td>Member</td>\n",
       "      <td>Classic Bike</td>\n",
       "      <td>2022-05-15 07:57:48</td>\n",
       "      <td>Broadway &amp; W 36 St</td>\n",
       "      <td>40.750977</td>\n",
       "      <td>-73.987654</td>\n",
       "      <td>Manhattan</td>\n",
       "      <td>Midtown</td>\n",
       "      <td>2022-05-15 08:12:55</td>\n",
       "      <td>West End Ave &amp; W 60 St</td>\n",
       "      <td>40.772370</td>\n",
       "      <td>-73.990050</td>\n",
       "      <td>Manhattan</td>\n",
       "      <td>Upper West Side</td>\n",
       "      <td>2022</td>\n",
       "      <td>5</td>\n",
       "      <td>19</td>\n",
       "      <td>6</td>\n",
       "      <td>7</td>\n",
       "      <td>15.116667</td>\n",
       "      <td>1.641419</td>\n",
       "      <td>6.515002</td>\n",
       "    </tr>\n",
       "    <tr>\n",
       "      <th>29032979</th>\n",
       "      <td>Member</td>\n",
       "      <td>Classic Bike</td>\n",
       "      <td>2022-05-05 18:13:05</td>\n",
       "      <td>Crescent St &amp; 30 Ave</td>\n",
       "      <td>40.768692</td>\n",
       "      <td>-73.924957</td>\n",
       "      <td>Queens</td>\n",
       "      <td>Astoria</td>\n",
       "      <td>2022-05-05 18:20:10</td>\n",
       "      <td>Vernon Blvd &amp; 31 Ave</td>\n",
       "      <td>40.769247</td>\n",
       "      <td>-73.935451</td>\n",
       "      <td>Queens</td>\n",
       "      <td>Astoria</td>\n",
       "      <td>2022</td>\n",
       "      <td>5</td>\n",
       "      <td>18</td>\n",
       "      <td>3</td>\n",
       "      <td>18</td>\n",
       "      <td>7.083333</td>\n",
       "      <td>0.762329</td>\n",
       "      <td>6.457375</td>\n",
       "    </tr>\n",
       "    <tr>\n",
       "      <th>29032980</th>\n",
       "      <td>Member</td>\n",
       "      <td>Classic Bike</td>\n",
       "      <td>2022-05-28 00:12:09</td>\n",
       "      <td>45 Ave &amp; 21 St</td>\n",
       "      <td>40.747371</td>\n",
       "      <td>-73.947774</td>\n",
       "      <td>Queens</td>\n",
       "      <td>Long Island City</td>\n",
       "      <td>2022-05-28 00:30:00</td>\n",
       "      <td>Vernon Blvd &amp; 31 Ave</td>\n",
       "      <td>40.769247</td>\n",
       "      <td>-73.935451</td>\n",
       "      <td>Queens</td>\n",
       "      <td>Astoria</td>\n",
       "      <td>2022</td>\n",
       "      <td>5</td>\n",
       "      <td>21</td>\n",
       "      <td>5</td>\n",
       "      <td>0</td>\n",
       "      <td>17.850000</td>\n",
       "      <td>2.359807</td>\n",
       "      <td>7.932125</td>\n",
       "    </tr>\n",
       "    <tr>\n",
       "      <th>29032981</th>\n",
       "      <td>Member</td>\n",
       "      <td>Classic Bike</td>\n",
       "      <td>2022-05-19 13:06:36</td>\n",
       "      <td>Crescent St &amp; 30 Ave</td>\n",
       "      <td>40.768692</td>\n",
       "      <td>-73.924957</td>\n",
       "      <td>Queens</td>\n",
       "      <td>Astoria</td>\n",
       "      <td>2022-05-19 13:18:02</td>\n",
       "      <td>46 St &amp; 28 Ave</td>\n",
       "      <td>40.763328</td>\n",
       "      <td>-73.908782</td>\n",
       "      <td>Queens</td>\n",
       "      <td>Astoria</td>\n",
       "      <td>2022</td>\n",
       "      <td>5</td>\n",
       "      <td>20</td>\n",
       "      <td>3</td>\n",
       "      <td>13</td>\n",
       "      <td>11.433333</td>\n",
       "      <td>1.486234</td>\n",
       "      <td>7.799481</td>\n",
       "    </tr>\n",
       "    <tr>\n",
       "      <th>29032982</th>\n",
       "      <td>Member</td>\n",
       "      <td>Classic Bike</td>\n",
       "      <td>2022-05-09 18:47:28</td>\n",
       "      <td>W 50 St &amp; 9 Ave</td>\n",
       "      <td>40.763605</td>\n",
       "      <td>-73.989180</td>\n",
       "      <td>Manhattan</td>\n",
       "      <td>Hell's Kitchen</td>\n",
       "      <td>2022-05-09 18:52:38</td>\n",
       "      <td>West End Ave &amp; W 60 St</td>\n",
       "      <td>40.772370</td>\n",
       "      <td>-73.990050</td>\n",
       "      <td>Manhattan</td>\n",
       "      <td>Upper West Side</td>\n",
       "      <td>2022</td>\n",
       "      <td>5</td>\n",
       "      <td>19</td>\n",
       "      <td>0</td>\n",
       "      <td>18</td>\n",
       "      <td>5.166667</td>\n",
       "      <td>0.664846</td>\n",
       "      <td>7.720793</td>\n",
       "    </tr>\n",
       "  </tbody>\n",
       "</table>\n",
       "</div>"
      ],
      "text/plain": [
       "         member_casual rideable_type          started_at  \\\n",
       "29032978        Member  Classic Bike 2022-05-15 07:57:48   \n",
       "29032979        Member  Classic Bike 2022-05-05 18:13:05   \n",
       "29032980        Member  Classic Bike 2022-05-28 00:12:09   \n",
       "29032981        Member  Classic Bike 2022-05-19 13:06:36   \n",
       "29032982        Member  Classic Bike 2022-05-09 18:47:28   \n",
       "\n",
       "            start_station_name  start_lat  start_lng start_boro  \\\n",
       "29032978    Broadway & W 36 St  40.750977 -73.987654  Manhattan   \n",
       "29032979  Crescent St & 30 Ave  40.768692 -73.924957     Queens   \n",
       "29032980        45 Ave & 21 St  40.747371 -73.947774     Queens   \n",
       "29032981  Crescent St & 30 Ave  40.768692 -73.924957     Queens   \n",
       "29032982       W 50 St & 9 Ave  40.763605 -73.989180  Manhattan   \n",
       "\n",
       "                start_hood            ended_at        end_station_name  \\\n",
       "29032978           Midtown 2022-05-15 08:12:55  West End Ave & W 60 St   \n",
       "29032979           Astoria 2022-05-05 18:20:10    Vernon Blvd & 31 Ave   \n",
       "29032980  Long Island City 2022-05-28 00:30:00    Vernon Blvd & 31 Ave   \n",
       "29032981           Astoria 2022-05-19 13:18:02          46 St & 28 Ave   \n",
       "29032982    Hell's Kitchen 2022-05-09 18:52:38  West End Ave & W 60 St   \n",
       "\n",
       "            end_lat    end_lng   end_boro         end_hood  year  month  \\\n",
       "29032978  40.772370 -73.990050  Manhattan  Upper West Side  2022      5   \n",
       "29032979  40.769247 -73.935451     Queens          Astoria  2022      5   \n",
       "29032980  40.769247 -73.935451     Queens          Astoria  2022      5   \n",
       "29032981  40.763328 -73.908782     Queens          Astoria  2022      5   \n",
       "29032982  40.772370 -73.990050  Manhattan  Upper West Side  2022      5   \n",
       "\n",
       "          week_of_year  day_of_week  hour_of_day  duration_min  distance_mi  \\\n",
       "29032978            19            6            7     15.116667     1.641419   \n",
       "29032979            18            3           18      7.083333     0.762329   \n",
       "29032980            21            5            0     17.850000     2.359807   \n",
       "29032981            20            3           13     11.433333     1.486234   \n",
       "29032982            19            0           18      5.166667     0.664846   \n",
       "\n",
       "          speed_mph  \n",
       "29032978   6.515002  \n",
       "29032979   6.457375  \n",
       "29032980   7.932125  \n",
       "29032981   7.799481  \n",
       "29032982   7.720793  "
      ]
     },
     "execution_count": 21,
     "metadata": {},
     "output_type": "execute_result"
    }
   ],
   "source": [
    "CB_Data.tail()"
   ]
  },
  {
   "cell_type": "code",
   "execution_count": 22,
   "id": "a19ac5ba",
   "metadata": {},
   "outputs": [
    {
     "name": "stdout",
     "output_type": "stream",
     "text": [
      "<class 'pandas.core.frame.DataFrame'>\n",
      "Int64Index: 27374552 entries, 0 to 29032982\n",
      "Data columns (total 22 columns):\n",
      " #   Column              Dtype         \n",
      "---  ------              -----         \n",
      " 0   member_casual       object        \n",
      " 1   rideable_type       object        \n",
      " 2   started_at          datetime64[ns]\n",
      " 3   start_station_name  object        \n",
      " 4   start_lat           float64       \n",
      " 5   start_lng           float64       \n",
      " 6   start_boro          object        \n",
      " 7   start_hood          object        \n",
      " 8   ended_at            datetime64[ns]\n",
      " 9   end_station_name    object        \n",
      " 10  end_lat             float64       \n",
      " 11  end_lng             float64       \n",
      " 12  end_boro            object        \n",
      " 13  end_hood            object        \n",
      " 14  year                int64         \n",
      " 15  month               int64         \n",
      " 16  week_of_year        int64         \n",
      " 17  day_of_week         int64         \n",
      " 18  hour_of_day         int64         \n",
      " 19  duration_min        float64       \n",
      " 20  distance_mi         float64       \n",
      " 21  speed_mph           float64       \n",
      "dtypes: datetime64[ns](2), float64(7), int64(5), object(8)\n",
      "memory usage: 4.7+ GB\n"
     ]
    }
   ],
   "source": [
    "CB_Data.info()"
   ]
  },
  {
   "cell_type": "code",
   "execution_count": 23,
   "id": "02593beb",
   "metadata": {},
   "outputs": [
    {
     "data": {
      "text/plain": [
       "member_casual                 object\n",
       "rideable_type                 object\n",
       "started_at            datetime64[ns]\n",
       "start_station_name            object\n",
       "start_lat                    float64\n",
       "start_lng                    float64\n",
       "start_boro                    object\n",
       "start_hood                    object\n",
       "ended_at              datetime64[ns]\n",
       "end_station_name              object\n",
       "end_lat                      float64\n",
       "end_lng                      float64\n",
       "end_boro                      object\n",
       "end_hood                      object\n",
       "year                           int64\n",
       "month                          int64\n",
       "week_of_year                   int64\n",
       "day_of_week                    int64\n",
       "hour_of_day                    int64\n",
       "duration_min                 float64\n",
       "distance_mi                  float64\n",
       "speed_mph                    float64\n",
       "dtype: object"
      ]
     },
     "execution_count": 23,
     "metadata": {},
     "output_type": "execute_result"
    }
   ],
   "source": [
    "CB_Data.dtypes"
   ]
  },
  {
   "cell_type": "markdown",
   "id": "0f1f400e",
   "metadata": {},
   "source": [
    "Check for null values."
   ]
  },
  {
   "cell_type": "code",
   "execution_count": 24,
   "id": "029d527b",
   "metadata": {},
   "outputs": [
    {
     "data": {
      "text/plain": [
       "member_casual         0\n",
       "rideable_type         0\n",
       "started_at            0\n",
       "start_station_name    0\n",
       "start_lat             0\n",
       "start_lng             0\n",
       "start_boro            0\n",
       "start_hood            0\n",
       "ended_at              0\n",
       "end_station_name      0\n",
       "end_lat               0\n",
       "end_lng               0\n",
       "end_boro              0\n",
       "end_hood              0\n",
       "year                  0\n",
       "month                 0\n",
       "week_of_year          0\n",
       "day_of_week           0\n",
       "hour_of_day           0\n",
       "duration_min          0\n",
       "distance_mi           0\n",
       "speed_mph             0\n",
       "dtype: int64"
      ]
     },
     "execution_count": 24,
     "metadata": {},
     "output_type": "execute_result"
    }
   ],
   "source": [
    "CB_Data.isnull().sum()"
   ]
  },
  {
   "cell_type": "markdown",
   "id": "04782f56",
   "metadata": {},
   "source": [
    "<a href=#toc>Back to the top</a>"
   ]
  },
  {
   "cell_type": "markdown",
   "id": "7fea3ef0",
   "metadata": {},
   "source": [
    "<a id=08-save-file></a>\n",
    "## Save Fully Cleaned DataFrame to .parquet"
   ]
  },
  {
   "cell_type": "markdown",
   "id": "4e6703ed",
   "metadata": {},
   "source": [
    "No null values and the dataframe has all the values that are needed for the EDA. Now it is time to export this completed dataframe to a .parquet file."
   ]
  },
  {
   "cell_type": "code",
   "execution_count": 25,
   "id": "7c46544a",
   "metadata": {},
   "outputs": [],
   "source": [
    "CB_Data_arrow = pa.Table.from_pandas(CB_Data)\n",
    "pq.write_table(CB_Data_arrow, 'CitiBike_data/202106-202205-citibike-tripdata.parquet')"
   ]
  },
  {
   "cell_type": "markdown",
   "id": "18f5a219",
   "metadata": {},
   "source": [
    "<a href=#toc>Back to the top</a>"
   ]
  }
 ],
 "metadata": {
  "kernelspec": {
   "display_name": "Python 3 (ipykernel)",
   "language": "python",
   "name": "python3"
  },
  "language_info": {
   "codemirror_mode": {
    "name": "ipython",
    "version": 3
   },
   "file_extension": ".py",
   "mimetype": "text/x-python",
   "name": "python",
   "nbconvert_exporter": "python",
   "pygments_lexer": "ipython3",
   "version": "3.9.7"
  }
 },
 "nbformat": 4,
 "nbformat_minor": 5
}
