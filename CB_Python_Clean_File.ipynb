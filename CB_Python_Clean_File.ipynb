{
 "cells": [
  {
   "cell_type": "markdown",
   "id": "1707f982",
   "metadata": {},
   "source": [
    "# To eBike or Not to eBike?"
   ]
  },
  {
   "cell_type": "markdown",
   "id": "864ce309",
   "metadata": {},
   "source": [
    "## Remove Nulls, Duplicates, and Other Errata"
   ]
  },
  {
   "cell_type": "markdown",
   "id": "f327835c",
   "metadata": {},
   "source": [
    "<a id=toc></a>\n",
    "## Table of Contents\n",
    "\n",
    "<ul>\n",
    "    <li><a href=#01-import-packages>Import Packages</a>\n",
    "    <li><a href=#02-load-dataset>Load Dataset and Check Properties</a>\n",
    "    <li><a href=#03-clean-data>Remove Null and Duplicate Values</a>\n",
    "    <li><a href=#04-norm-data>Normalize Categorical Data Types</a>\n",
    "    <li><a href=#05-save-data>Save Cleaned Dataset</a>\n",
    "</ul>"
   ]
  },
  {
   "cell_type": "markdown",
   "id": "33854b32",
   "metadata": {},
   "source": [
    "<a id=01-import-packages></a>\n",
    "## Import Packages"
   ]
  },
  {
   "cell_type": "markdown",
   "id": "53c4c675",
   "metadata": {},
   "source": [
    "First, import relevant packages:"
   ]
  },
  {
   "cell_type": "code",
   "execution_count": 2,
   "id": "7c52f461",
   "metadata": {},
   "outputs": [],
   "source": [
    "# # Numerical and data\n",
    "# import pandas as pd\n",
    "# import numpy as np\n",
    "\n",
    "# # Apache parquet files (to save space)\n",
    "# import pyarrow as pa\n",
    "# import pyarrow.parquet as pq"
   ]
  },
  {
   "cell_type": "markdown",
   "id": "ef7abd0e",
   "metadata": {},
   "source": [
    "<a href=#toc>Back to the top</a>"
   ]
  },
  {
   "cell_type": "markdown",
   "id": "6d224d37",
   "metadata": {},
   "source": [
    "<a id=02-load-dataset></a>\n",
    "## Load Dataset and Check Properties"
   ]
  },
  {
   "cell_type": "markdown",
   "id": "5becf83e",
   "metadata": {},
   "source": [
    "Next, load the .parquet file into a dataframe:"
   ]
  },
  {
   "cell_type": "code",
   "execution_count": 6,
   "id": "9f953431",
   "metadata": {},
   "outputs": [],
   "source": [
    "# CB_Data = pq.read_table('CitiBike_data/202106-202205-citibike-tripdata.parquet').to_pandas()"
   ]
  },
  {
   "cell_type": "code",
   "execution_count": 7,
   "id": "3b0c3a91",
   "metadata": {},
   "outputs": [
    {
     "name": "stdout",
     "output_type": "stream",
     "text": [
      "<class 'pandas.core.frame.DataFrame'>\n",
      "RangeIndex: 29032983 entries, 0 to 29032982\n",
      "Data columns (total 10 columns):\n",
      " #   Column              Dtype  \n",
      "---  ------              -----  \n",
      " 0   rideable_type       object \n",
      " 1   started_at          object \n",
      " 2   ended_at            object \n",
      " 3   start_station_name  object \n",
      " 4   end_station_name    object \n",
      " 5   start_lat           float64\n",
      " 6   start_lng           float64\n",
      " 7   end_lat             float64\n",
      " 8   end_lng             float64\n",
      " 9   member_casual       object \n",
      "dtypes: float64(4), object(6)\n",
      "memory usage: 2.2+ GB\n"
     ]
    }
   ],
   "source": [
    "# CB_Data.info()"
   ]
  },
  {
   "cell_type": "code",
   "execution_count": 8,
   "id": "e0930fad",
   "metadata": {},
   "outputs": [
    {
     "data": {
      "text/plain": [
       "Index(['rideable_type', 'started_at', 'ended_at', 'start_station_name',\n",
       "       'end_station_name', 'start_lat', 'start_lng', 'end_lat', 'end_lng',\n",
       "       'member_casual'],\n",
       "      dtype='object')"
      ]
     },
     "execution_count": 8,
     "metadata": {},
     "output_type": "execute_result"
    }
   ],
   "source": [
    "# CB_Data.columns"
   ]
  },
  {
   "cell_type": "code",
   "execution_count": 9,
   "id": "9861acf7",
   "metadata": {},
   "outputs": [
    {
     "data": {
      "text/html": [
       "<div>\n",
       "<style scoped>\n",
       "    .dataframe tbody tr th:only-of-type {\n",
       "        vertical-align: middle;\n",
       "    }\n",
       "\n",
       "    .dataframe tbody tr th {\n",
       "        vertical-align: top;\n",
       "    }\n",
       "\n",
       "    .dataframe thead th {\n",
       "        text-align: right;\n",
       "    }\n",
       "</style>\n",
       "<table border=\"1\" class=\"dataframe\">\n",
       "  <thead>\n",
       "    <tr style=\"text-align: right;\">\n",
       "      <th></th>\n",
       "      <th>rideable_type</th>\n",
       "      <th>started_at</th>\n",
       "      <th>ended_at</th>\n",
       "      <th>start_station_name</th>\n",
       "      <th>end_station_name</th>\n",
       "      <th>start_lat</th>\n",
       "      <th>start_lng</th>\n",
       "      <th>end_lat</th>\n",
       "      <th>end_lng</th>\n",
       "      <th>member_casual</th>\n",
       "    </tr>\n",
       "  </thead>\n",
       "  <tbody>\n",
       "    <tr>\n",
       "      <th>0</th>\n",
       "      <td>docked_bike</td>\n",
       "      <td>2021-06-01 23:12:34</td>\n",
       "      <td>2021-06-01 23:14:46</td>\n",
       "      <td>Driggs Ave &amp; N 9 St</td>\n",
       "      <td>Bayard St &amp; Leonard St</td>\n",
       "      <td>40.718169</td>\n",
       "      <td>-73.955201</td>\n",
       "      <td>40.719156</td>\n",
       "      <td>-73.948854</td>\n",
       "      <td>member</td>\n",
       "    </tr>\n",
       "    <tr>\n",
       "      <th>1</th>\n",
       "      <td>docked_bike</td>\n",
       "      <td>2021-06-16 17:14:56</td>\n",
       "      <td>2021-06-16 17:29:15</td>\n",
       "      <td>Fulton St &amp; Broadway</td>\n",
       "      <td>Mercer St &amp; Spring St</td>\n",
       "      <td>40.711066</td>\n",
       "      <td>-74.009447</td>\n",
       "      <td>40.723627</td>\n",
       "      <td>-73.999496</td>\n",
       "      <td>casual</td>\n",
       "    </tr>\n",
       "    <tr>\n",
       "      <th>2</th>\n",
       "      <td>docked_bike</td>\n",
       "      <td>2021-06-07 19:41:55</td>\n",
       "      <td>2021-06-07 19:51:28</td>\n",
       "      <td>Devoe St &amp; Lorimer St</td>\n",
       "      <td>Manhattan Av &amp; Leonard St</td>\n",
       "      <td>40.713352</td>\n",
       "      <td>-73.949103</td>\n",
       "      <td>40.720840</td>\n",
       "      <td>-73.948440</td>\n",
       "      <td>casual</td>\n",
       "    </tr>\n",
       "    <tr>\n",
       "      <th>3</th>\n",
       "      <td>electric_bike</td>\n",
       "      <td>2021-06-17 15:13:15</td>\n",
       "      <td>2021-06-17 15:33:25</td>\n",
       "      <td>Driggs Ave &amp; N 9 St</td>\n",
       "      <td>Greenwich Ave &amp; Charles St</td>\n",
       "      <td>40.718169</td>\n",
       "      <td>-73.955201</td>\n",
       "      <td>40.735238</td>\n",
       "      <td>-74.000271</td>\n",
       "      <td>member</td>\n",
       "    </tr>\n",
       "    <tr>\n",
       "      <th>4</th>\n",
       "      <td>electric_bike</td>\n",
       "      <td>2021-06-18 08:27:03</td>\n",
       "      <td>2021-06-18 08:53:37</td>\n",
       "      <td>Graham Ave &amp; Conselyea St</td>\n",
       "      <td>E 30 St &amp; Park Ave S</td>\n",
       "      <td>40.715143</td>\n",
       "      <td>-73.944507</td>\n",
       "      <td>40.744449</td>\n",
       "      <td>-73.983035</td>\n",
       "      <td>member</td>\n",
       "    </tr>\n",
       "  </tbody>\n",
       "</table>\n",
       "</div>"
      ],
      "text/plain": [
       "   rideable_type           started_at             ended_at  \\\n",
       "0    docked_bike  2021-06-01 23:12:34  2021-06-01 23:14:46   \n",
       "1    docked_bike  2021-06-16 17:14:56  2021-06-16 17:29:15   \n",
       "2    docked_bike  2021-06-07 19:41:55  2021-06-07 19:51:28   \n",
       "3  electric_bike  2021-06-17 15:13:15  2021-06-17 15:33:25   \n",
       "4  electric_bike  2021-06-18 08:27:03  2021-06-18 08:53:37   \n",
       "\n",
       "          start_station_name            end_station_name  start_lat  \\\n",
       "0        Driggs Ave & N 9 St      Bayard St & Leonard St  40.718169   \n",
       "1       Fulton St & Broadway       Mercer St & Spring St  40.711066   \n",
       "2      Devoe St & Lorimer St   Manhattan Av & Leonard St  40.713352   \n",
       "3        Driggs Ave & N 9 St  Greenwich Ave & Charles St  40.718169   \n",
       "4  Graham Ave & Conselyea St        E 30 St & Park Ave S  40.715143   \n",
       "\n",
       "   start_lng    end_lat    end_lng member_casual  \n",
       "0 -73.955201  40.719156 -73.948854        member  \n",
       "1 -74.009447  40.723627 -73.999496        casual  \n",
       "2 -73.949103  40.720840 -73.948440        casual  \n",
       "3 -73.955201  40.735238 -74.000271        member  \n",
       "4 -73.944507  40.744449 -73.983035        member  "
      ]
     },
     "execution_count": 9,
     "metadata": {},
     "output_type": "execute_result"
    }
   ],
   "source": [
    "# CB_Data.head()"
   ]
  },
  {
   "cell_type": "markdown",
   "id": "30ecfbec",
   "metadata": {},
   "source": [
    "Count total number of rides during that time frame (June 2021 through May 2022):"
   ]
  },
  {
   "cell_type": "code",
   "execution_count": 24,
   "id": "79eacd93",
   "metadata": {},
   "outputs": [],
   "source": [
    "# no_rides = len(CB_Data)"
   ]
  },
  {
   "cell_type": "markdown",
   "id": "1976d905",
   "metadata": {},
   "source": [
    "<a href=#toc>Back to the top</a>"
   ]
  },
  {
   "cell_type": "markdown",
   "id": "b0746627",
   "metadata": {},
   "source": [
    "<a id=03-clean-data></a>\n",
    "## Remove Null and Duplicate Values"
   ]
  },
  {
   "cell_type": "markdown",
   "id": "00cc9510",
   "metadata": {},
   "source": [
    "Check for null values."
   ]
  },
  {
   "cell_type": "code",
   "execution_count": 26,
   "id": "684767f1",
   "metadata": {},
   "outputs": [
    {
     "name": "stdout",
     "output_type": "stream",
     "text": [
      "Total number of Citibike rides from June 2021 through May 2022: 29032983\n",
      "Total number of \"ghost bikes\" in that time frame: 245\n",
      "Total number of lost bikes in that time frame: 102300\n",
      "Total number of bikes being docked at the same location in that time frame: 1549785\n",
      "Total number of \"dud rides\" to be removed from data: 1652330\n",
      "Percentage of rides from June 2021 through May 2022 with bikes missing:       0.35320173610820493\n",
      "Percentage of rides from June 2021 through May 2022 with bikes docked at the same location:       5.338015043097707\n",
      "Total number of \"dud rides\" to be removed from data:       5.691216779205912\n"
     ]
    }
   ],
   "source": [
    "# # \"Ghost bikes\" coming in from unknown locations\n",
    "# bike_ghos = CB_Data.loc[pd.isnull(CB_Data.start_station_name)]\n",
    "# no_bike_ghos = len(bike_ghos)\n",
    "\n",
    "# # Bikes that are lost, i.e. not docked at the end\n",
    "# bike_lost = CB_Data.loc[pd.isnull(CB_Data.end_station_name)]\n",
    "# no_bike_lost = len(bike_lost)\n",
    "\n",
    "# # Bikes that are docked at the same station they are picked up, for joyride, rider changing mind, defective bike, etc.\n",
    "# bike_joyr = CB_Data.loc[CB_Data.start_station_name == CB_Data.end_station_name]\n",
    "# no_bike_joyr = len(bike_joyr)\n",
    "\n",
    "# print(f'Total number of Citibike rides from June 2021 through May 2022: {no_rides}')\n",
    "# print(f'Total number of \"ghost bikes\" in that time frame: {no_bike_ghos}')\n",
    "# print(f'Total number of lost bikes in that time frame: {no_bike_lost}')\n",
    "# print(f'Total number of bikes being docked at the same location in that time frame: {no_bike_joyr}')\n",
    "# print(f'Total number of \"dud rides\" to be removed from data: {no_bike_ghos + no_bike_lost + no_bike_joyr}')\n",
    "\n",
    "# print(f'Percentage of rides from June 2021 through May 2022 with bikes missing: \\\n",
    "#       {100*(no_bike_ghos + no_bike_lost)/no_rides}')\n",
    "# print(f'Percentage of rides from June 2021 through May 2022 with bikes docked at the same location: \\\n",
    "#       {100*no_bike_joyr/no_rides}')\n",
    "# print(f'Total number of \"dud rides\" to be removed from data: \\\n",
    "#       {100*(no_bike_ghos + no_bike_lost + no_bike_joyr)/no_rides}')"
   ]
  },
  {
   "cell_type": "markdown",
   "id": "3c4c787e",
   "metadata": {},
   "source": [
    "To summarize:\n",
    "<br>Total number of Citibike rides from June 2021 through May 2022: 29,032,983\n",
    "<br>Total number of \"ghost bikes\" in that time frame: 245\n",
    "<br>Total number of lost bikes in that time frame: 102,300\n",
    "<br>Total number of bikes being docked at the same location in that time frame: 1,549,785\n",
    "<br>Total number of \"dud rides\" to be removed from data: 1,652,330\n",
    "<br>Percentage of rides from June 2021 through May 2022 with bikes missing:       0.35320173610820493\n",
    "<br>Percentage of rides from June 2021 through May 2022 with bikes docked at the same location:       5.338015043097707\n",
    "<br>Total number of \"dud rides\" to be removed from data:       5.691216779205912\n",
    "\n",
    "Out of 29 million rides taken from June 2021 through May 2022, 1.55 million (5.7%) such \"dud rides\" shall be removed."
   ]
  },
  {
   "cell_type": "markdown",
   "id": "4488ac5e",
   "metadata": {},
   "source": [
    "Now, eliminate these \"dud rides\" once and for all:"
   ]
  },
  {
   "cell_type": "code",
   "execution_count": 40,
   "id": "5b193439",
   "metadata": {},
   "outputs": [],
   "source": [
    "# dud_rides = bike_ghos.index.tolist() + bike_lost.index.tolist() + bike_joyr.index.tolist()\n",
    "\n",
    "# CB_Data = CB_Data.drop(axis = 0, index = dud_rides)"
   ]
  },
  {
   "cell_type": "code",
   "execution_count": 41,
   "id": "ef1bb02b",
   "metadata": {},
   "outputs": [
    {
     "data": {
      "text/plain": [
       "27380897"
      ]
     },
     "execution_count": 41,
     "metadata": {},
     "output_type": "execute_result"
    }
   ],
   "source": [
    "# len(CB_Data)"
   ]
  },
  {
   "cell_type": "markdown",
   "id": "01acc3aa",
   "metadata": {},
   "source": [
    "Now, there are 27 million rides to work with, which is still more than enough data!"
   ]
  },
  {
   "cell_type": "markdown",
   "id": "0d19341a",
   "metadata": {},
   "source": [
    "<a href=#toc>Back to the top</a>"
   ]
  },
  {
   "cell_type": "markdown",
   "id": "88826fb2",
   "metadata": {},
   "source": [
    "<a id=04-norm-data></a>\n",
    "## Normalize Categorical Data Types"
   ]
  },
  {
   "cell_type": "markdown",
   "id": "a9d89271",
   "metadata": {},
   "source": [
    "Make sure that all the values of **rideable_type** are consistent. In other words, **docked_bike** = **classic_bike**."
   ]
  },
  {
   "cell_type": "code",
   "execution_count": 42,
   "id": "538b1de6",
   "metadata": {},
   "outputs": [
    {
     "name": "stderr",
     "output_type": "stream",
     "text": [
      "/Users/jchatterjee/opt/anaconda3/lib/python3.9/site-packages/pandas/core/indexing.py:1732: SettingWithCopyWarning: \n",
      "A value is trying to be set on a copy of a slice from a DataFrame\n",
      "\n",
      "See the caveats in the documentation: https://pandas.pydata.org/pandas-docs/stable/user_guide/indexing.html#returning-a-view-versus-a-copy\n",
      "  self._setitem_single_block(indexer, value, name)\n"
     ]
    }
   ],
   "source": [
    "# CB_Data.rideable_type.loc[CB_Data.rideable_type == 'classic_bike'] = 'Classic Bike'\n",
    "# CB_Data.rideable_type.loc[CB_Data.rideable_type == 'docked_bike'] = 'Classic Bike'\n",
    "# CB_Data.rideable_type.loc[CB_Data.rideable_type == 'electric_bike'] = 'Electric Bike'"
   ]
  },
  {
   "cell_type": "code",
   "execution_count": 43,
   "id": "ad54c67c",
   "metadata": {},
   "outputs": [
    {
     "data": {
      "text/html": [
       "<div>\n",
       "<style scoped>\n",
       "    .dataframe tbody tr th:only-of-type {\n",
       "        vertical-align: middle;\n",
       "    }\n",
       "\n",
       "    .dataframe tbody tr th {\n",
       "        vertical-align: top;\n",
       "    }\n",
       "\n",
       "    .dataframe thead th {\n",
       "        text-align: right;\n",
       "    }\n",
       "</style>\n",
       "<table border=\"1\" class=\"dataframe\">\n",
       "  <thead>\n",
       "    <tr style=\"text-align: right;\">\n",
       "      <th></th>\n",
       "      <th>rideable_type</th>\n",
       "      <th>started_at</th>\n",
       "      <th>ended_at</th>\n",
       "      <th>start_station_name</th>\n",
       "      <th>end_station_name</th>\n",
       "      <th>start_lat</th>\n",
       "      <th>start_lng</th>\n",
       "      <th>end_lat</th>\n",
       "      <th>end_lng</th>\n",
       "      <th>member_casual</th>\n",
       "    </tr>\n",
       "  </thead>\n",
       "  <tbody>\n",
       "    <tr>\n",
       "      <th>0</th>\n",
       "      <td>Classic Bike</td>\n",
       "      <td>2021-06-01 23:12:34</td>\n",
       "      <td>2021-06-01 23:14:46</td>\n",
       "      <td>Driggs Ave &amp; N 9 St</td>\n",
       "      <td>Bayard St &amp; Leonard St</td>\n",
       "      <td>40.718169</td>\n",
       "      <td>-73.955201</td>\n",
       "      <td>40.719156</td>\n",
       "      <td>-73.948854</td>\n",
       "      <td>member</td>\n",
       "    </tr>\n",
       "    <tr>\n",
       "      <th>1</th>\n",
       "      <td>Classic Bike</td>\n",
       "      <td>2021-06-16 17:14:56</td>\n",
       "      <td>2021-06-16 17:29:15</td>\n",
       "      <td>Fulton St &amp; Broadway</td>\n",
       "      <td>Mercer St &amp; Spring St</td>\n",
       "      <td>40.711066</td>\n",
       "      <td>-74.009447</td>\n",
       "      <td>40.723627</td>\n",
       "      <td>-73.999496</td>\n",
       "      <td>casual</td>\n",
       "    </tr>\n",
       "    <tr>\n",
       "      <th>2</th>\n",
       "      <td>Classic Bike</td>\n",
       "      <td>2021-06-07 19:41:55</td>\n",
       "      <td>2021-06-07 19:51:28</td>\n",
       "      <td>Devoe St &amp; Lorimer St</td>\n",
       "      <td>Manhattan Av &amp; Leonard St</td>\n",
       "      <td>40.713352</td>\n",
       "      <td>-73.949103</td>\n",
       "      <td>40.720840</td>\n",
       "      <td>-73.948440</td>\n",
       "      <td>casual</td>\n",
       "    </tr>\n",
       "    <tr>\n",
       "      <th>3</th>\n",
       "      <td>Electric Bike</td>\n",
       "      <td>2021-06-17 15:13:15</td>\n",
       "      <td>2021-06-17 15:33:25</td>\n",
       "      <td>Driggs Ave &amp; N 9 St</td>\n",
       "      <td>Greenwich Ave &amp; Charles St</td>\n",
       "      <td>40.718169</td>\n",
       "      <td>-73.955201</td>\n",
       "      <td>40.735238</td>\n",
       "      <td>-74.000271</td>\n",
       "      <td>member</td>\n",
       "    </tr>\n",
       "    <tr>\n",
       "      <th>4</th>\n",
       "      <td>Electric Bike</td>\n",
       "      <td>2021-06-18 08:27:03</td>\n",
       "      <td>2021-06-18 08:53:37</td>\n",
       "      <td>Graham Ave &amp; Conselyea St</td>\n",
       "      <td>E 30 St &amp; Park Ave S</td>\n",
       "      <td>40.715143</td>\n",
       "      <td>-73.944507</td>\n",
       "      <td>40.744449</td>\n",
       "      <td>-73.983035</td>\n",
       "      <td>member</td>\n",
       "    </tr>\n",
       "  </tbody>\n",
       "</table>\n",
       "</div>"
      ],
      "text/plain": [
       "   rideable_type           started_at             ended_at  \\\n",
       "0   Classic Bike  2021-06-01 23:12:34  2021-06-01 23:14:46   \n",
       "1   Classic Bike  2021-06-16 17:14:56  2021-06-16 17:29:15   \n",
       "2   Classic Bike  2021-06-07 19:41:55  2021-06-07 19:51:28   \n",
       "3  Electric Bike  2021-06-17 15:13:15  2021-06-17 15:33:25   \n",
       "4  Electric Bike  2021-06-18 08:27:03  2021-06-18 08:53:37   \n",
       "\n",
       "          start_station_name            end_station_name  start_lat  \\\n",
       "0        Driggs Ave & N 9 St      Bayard St & Leonard St  40.718169   \n",
       "1       Fulton St & Broadway       Mercer St & Spring St  40.711066   \n",
       "2      Devoe St & Lorimer St   Manhattan Av & Leonard St  40.713352   \n",
       "3        Driggs Ave & N 9 St  Greenwich Ave & Charles St  40.718169   \n",
       "4  Graham Ave & Conselyea St        E 30 St & Park Ave S  40.715143   \n",
       "\n",
       "   start_lng    end_lat    end_lng member_casual  \n",
       "0 -73.955201  40.719156 -73.948854        member  \n",
       "1 -74.009447  40.723627 -73.999496        casual  \n",
       "2 -73.949103  40.720840 -73.948440        casual  \n",
       "3 -73.955201  40.735238 -74.000271        member  \n",
       "4 -73.944507  40.744449 -73.983035        member  "
      ]
     },
     "execution_count": 43,
     "metadata": {},
     "output_type": "execute_result"
    }
   ],
   "source": [
    "# CB_Data.head()"
   ]
  },
  {
   "cell_type": "markdown",
   "id": "fdd3630a",
   "metadata": {},
   "source": [
    "Capitalize **member_casual** entries."
   ]
  },
  {
   "cell_type": "code",
   "execution_count": 94,
   "id": "75ab7a22",
   "metadata": {},
   "outputs": [
    {
     "name": "stderr",
     "output_type": "stream",
     "text": [
      "/Users/jchatterjee/opt/anaconda3/lib/python3.9/site-packages/pandas/core/indexing.py:1732: SettingWithCopyWarning: \n",
      "A value is trying to be set on a copy of a slice from a DataFrame\n",
      "\n",
      "See the caveats in the documentation: https://pandas.pydata.org/pandas-docs/stable/user_guide/indexing.html#returning-a-view-versus-a-copy\n",
      "  self._setitem_single_block(indexer, value, name)\n"
     ]
    }
   ],
   "source": [
    "# CB_Data.member_casual.loc[CB_Data.member_casual == 'member'] = 'Member'\n",
    "# CB_Data.member_casual.loc[CB_Data.member_casual == 'casual'] = 'Casual'"
   ]
  },
  {
   "cell_type": "code",
   "execution_count": 95,
   "id": "8fe1cb1c",
   "metadata": {},
   "outputs": [
    {
     "data": {
      "text/html": [
       "<div>\n",
       "<style scoped>\n",
       "    .dataframe tbody tr th:only-of-type {\n",
       "        vertical-align: middle;\n",
       "    }\n",
       "\n",
       "    .dataframe tbody tr th {\n",
       "        vertical-align: top;\n",
       "    }\n",
       "\n",
       "    .dataframe thead th {\n",
       "        text-align: right;\n",
       "    }\n",
       "</style>\n",
       "<table border=\"1\" class=\"dataframe\">\n",
       "  <thead>\n",
       "    <tr style=\"text-align: right;\">\n",
       "      <th></th>\n",
       "      <th>rideable_type</th>\n",
       "      <th>started_at</th>\n",
       "      <th>ended_at</th>\n",
       "      <th>start_station_name</th>\n",
       "      <th>end_station_name</th>\n",
       "      <th>start_lat</th>\n",
       "      <th>start_lng</th>\n",
       "      <th>end_lat</th>\n",
       "      <th>end_lng</th>\n",
       "      <th>member_casual</th>\n",
       "    </tr>\n",
       "  </thead>\n",
       "  <tbody>\n",
       "    <tr>\n",
       "      <th>0</th>\n",
       "      <td>Classic Bike</td>\n",
       "      <td>2021-06-01 23:12:34</td>\n",
       "      <td>2021-06-01 23:14:46</td>\n",
       "      <td>Driggs Ave &amp; N 9 St</td>\n",
       "      <td>Bayard St &amp; Leonard St</td>\n",
       "      <td>40.718169</td>\n",
       "      <td>-73.955201</td>\n",
       "      <td>40.719156</td>\n",
       "      <td>-73.948854</td>\n",
       "      <td>Member</td>\n",
       "    </tr>\n",
       "    <tr>\n",
       "      <th>1</th>\n",
       "      <td>Classic Bike</td>\n",
       "      <td>2021-06-16 17:14:56</td>\n",
       "      <td>2021-06-16 17:29:15</td>\n",
       "      <td>Fulton St &amp; Broadway</td>\n",
       "      <td>Mercer St &amp; Spring St</td>\n",
       "      <td>40.711066</td>\n",
       "      <td>-74.009447</td>\n",
       "      <td>40.723627</td>\n",
       "      <td>-73.999496</td>\n",
       "      <td>Casual</td>\n",
       "    </tr>\n",
       "    <tr>\n",
       "      <th>2</th>\n",
       "      <td>Classic Bike</td>\n",
       "      <td>2021-06-07 19:41:55</td>\n",
       "      <td>2021-06-07 19:51:28</td>\n",
       "      <td>Devoe St &amp; Lorimer St</td>\n",
       "      <td>Manhattan Av &amp; Leonard St</td>\n",
       "      <td>40.713352</td>\n",
       "      <td>-73.949103</td>\n",
       "      <td>40.720840</td>\n",
       "      <td>-73.948440</td>\n",
       "      <td>Casual</td>\n",
       "    </tr>\n",
       "    <tr>\n",
       "      <th>3</th>\n",
       "      <td>Electric Bike</td>\n",
       "      <td>2021-06-17 15:13:15</td>\n",
       "      <td>2021-06-17 15:33:25</td>\n",
       "      <td>Driggs Ave &amp; N 9 St</td>\n",
       "      <td>Greenwich Ave &amp; Charles St</td>\n",
       "      <td>40.718169</td>\n",
       "      <td>-73.955201</td>\n",
       "      <td>40.735238</td>\n",
       "      <td>-74.000271</td>\n",
       "      <td>Member</td>\n",
       "    </tr>\n",
       "    <tr>\n",
       "      <th>4</th>\n",
       "      <td>Electric Bike</td>\n",
       "      <td>2021-06-18 08:27:03</td>\n",
       "      <td>2021-06-18 08:53:37</td>\n",
       "      <td>Graham Ave &amp; Conselyea St</td>\n",
       "      <td>E 30 St &amp; Park Ave S</td>\n",
       "      <td>40.715143</td>\n",
       "      <td>-73.944507</td>\n",
       "      <td>40.744449</td>\n",
       "      <td>-73.983035</td>\n",
       "      <td>Member</td>\n",
       "    </tr>\n",
       "  </tbody>\n",
       "</table>\n",
       "</div>"
      ],
      "text/plain": [
       "   rideable_type           started_at             ended_at  \\\n",
       "0   Classic Bike  2021-06-01 23:12:34  2021-06-01 23:14:46   \n",
       "1   Classic Bike  2021-06-16 17:14:56  2021-06-16 17:29:15   \n",
       "2   Classic Bike  2021-06-07 19:41:55  2021-06-07 19:51:28   \n",
       "3  Electric Bike  2021-06-17 15:13:15  2021-06-17 15:33:25   \n",
       "4  Electric Bike  2021-06-18 08:27:03  2021-06-18 08:53:37   \n",
       "\n",
       "          start_station_name            end_station_name  start_lat  \\\n",
       "0        Driggs Ave & N 9 St      Bayard St & Leonard St  40.718169   \n",
       "1       Fulton St & Broadway       Mercer St & Spring St  40.711066   \n",
       "2      Devoe St & Lorimer St   Manhattan Av & Leonard St  40.713352   \n",
       "3        Driggs Ave & N 9 St  Greenwich Ave & Charles St  40.718169   \n",
       "4  Graham Ave & Conselyea St        E 30 St & Park Ave S  40.715143   \n",
       "\n",
       "   start_lng    end_lat    end_lng member_casual  \n",
       "0 -73.955201  40.719156 -73.948854        Member  \n",
       "1 -74.009447  40.723627 -73.999496        Casual  \n",
       "2 -73.949103  40.720840 -73.948440        Casual  \n",
       "3 -73.955201  40.735238 -74.000271        Member  \n",
       "4 -73.944507  40.744449 -73.983035        Member  "
      ]
     },
     "execution_count": 95,
     "metadata": {},
     "output_type": "execute_result"
    }
   ],
   "source": [
    "# CB_Data.head()"
   ]
  },
  {
   "cell_type": "markdown",
   "id": "115ed4ba",
   "metadata": {},
   "source": [
    "<a href=#toc>Back to the top</a>"
   ]
  },
  {
   "cell_type": "markdown",
   "id": "13b19783",
   "metadata": {},
   "source": [
    "<a id=05-save-data></a>\n",
    "## Save Cleaned Dataset"
   ]
  },
  {
   "cell_type": "markdown",
   "id": "17ce7ce5",
   "metadata": {},
   "source": [
    "At this point, it is a good time to save the cleaned file in .parquet."
   ]
  },
  {
   "cell_type": "code",
   "execution_count": 96,
   "id": "fb621e93",
   "metadata": {},
   "outputs": [],
   "source": [
    "# CB_Data_arrow = pa.Table.from_pandas(CB_Data)\n",
    "# pq.write_table(CB_Data_arrow, 'CitiBike_data/202106-202205-citibike-tripdata.parquet')"
   ]
  },
  {
   "cell_type": "markdown",
   "id": "be0ae4e4",
   "metadata": {},
   "source": [
    "<a href=#toc>Back to the top</a>"
   ]
  }
 ],
 "metadata": {
  "kernelspec": {
   "display_name": "Python 3 (ipykernel)",
   "language": "python",
   "name": "python3"
  },
  "language_info": {
   "codemirror_mode": {
    "name": "ipython",
    "version": 3
   },
   "file_extension": ".py",
   "mimetype": "text/x-python",
   "name": "python",
   "nbconvert_exporter": "python",
   "pygments_lexer": "ipython3",
   "version": "3.9.7"
  }
 },
 "nbformat": 4,
 "nbformat_minor": 5
}
