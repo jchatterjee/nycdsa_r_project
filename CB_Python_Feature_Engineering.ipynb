{
 "cells": [
  {
   "cell_type": "markdown",
   "id": "6fbaeaff",
   "metadata": {},
   "source": [
    "Import necessary packages."
   ]
  },
  {
   "cell_type": "code",
   "execution_count": 1,
   "id": "6175c9a2",
   "metadata": {},
   "outputs": [],
   "source": [
    "# Dataframes and numerical\n",
    "import pandas as pd\n",
    "import numpy as np\n",
    "\n",
    "# Apache parquet files (to save space)\n",
    "import pyarrow as pa\n",
    "import pyarrow.parquet as pq"
   ]
  },
  {
   "cell_type": "markdown",
   "id": "2d8174e7",
   "metadata": {},
   "source": [
    "Load .parquet file into dataframe."
   ]
  },
  {
   "cell_type": "code",
   "execution_count": 2,
   "id": "3b2617f9",
   "metadata": {},
   "outputs": [],
   "source": [
    "CB_Data = pq.read_table('CitiBike_data/202106-202205-citibike-tripdata.parquet').to_pandas()"
   ]
  },
  {
   "cell_type": "markdown",
   "id": "4ce4e191",
   "metadata": {},
   "source": [
    "Check raw data of dataframe."
   ]
  },
  {
   "cell_type": "code",
   "execution_count": 3,
   "id": "46a9e146",
   "metadata": {},
   "outputs": [
    {
     "data": {
      "text/plain": [
       "(27380897, 10)"
      ]
     },
     "execution_count": 3,
     "metadata": {},
     "output_type": "execute_result"
    }
   ],
   "source": [
    "CB_Data.shape"
   ]
  },
  {
   "cell_type": "code",
   "execution_count": 4,
   "id": "2c5c0610",
   "metadata": {},
   "outputs": [
    {
     "data": {
      "text/plain": [
       "Index(['rideable_type', 'started_at', 'ended_at', 'start_station_name',\n",
       "       'end_station_name', 'start_lat', 'start_lng', 'end_lat', 'end_lng',\n",
       "       'member_casual'],\n",
       "      dtype='object')"
      ]
     },
     "execution_count": 4,
     "metadata": {},
     "output_type": "execute_result"
    }
   ],
   "source": [
    "CB_Data.columns"
   ]
  },
  {
   "cell_type": "code",
   "execution_count": 5,
   "id": "6f655d58",
   "metadata": {},
   "outputs": [
    {
     "data": {
      "text/html": [
       "<div>\n",
       "<style scoped>\n",
       "    .dataframe tbody tr th:only-of-type {\n",
       "        vertical-align: middle;\n",
       "    }\n",
       "\n",
       "    .dataframe tbody tr th {\n",
       "        vertical-align: top;\n",
       "    }\n",
       "\n",
       "    .dataframe thead th {\n",
       "        text-align: right;\n",
       "    }\n",
       "</style>\n",
       "<table border=\"1\" class=\"dataframe\">\n",
       "  <thead>\n",
       "    <tr style=\"text-align: right;\">\n",
       "      <th></th>\n",
       "      <th>rideable_type</th>\n",
       "      <th>started_at</th>\n",
       "      <th>ended_at</th>\n",
       "      <th>start_station_name</th>\n",
       "      <th>end_station_name</th>\n",
       "      <th>start_lat</th>\n",
       "      <th>start_lng</th>\n",
       "      <th>end_lat</th>\n",
       "      <th>end_lng</th>\n",
       "      <th>member_casual</th>\n",
       "    </tr>\n",
       "  </thead>\n",
       "  <tbody>\n",
       "    <tr>\n",
       "      <th>0</th>\n",
       "      <td>Classic Bike</td>\n",
       "      <td>2021-06-01 23:12:34</td>\n",
       "      <td>2021-06-01 23:14:46</td>\n",
       "      <td>Driggs Ave &amp; N 9 St</td>\n",
       "      <td>Bayard St &amp; Leonard St</td>\n",
       "      <td>40.718169</td>\n",
       "      <td>-73.955201</td>\n",
       "      <td>40.719156</td>\n",
       "      <td>-73.948854</td>\n",
       "      <td>Member</td>\n",
       "    </tr>\n",
       "    <tr>\n",
       "      <th>1</th>\n",
       "      <td>Classic Bike</td>\n",
       "      <td>2021-06-16 17:14:56</td>\n",
       "      <td>2021-06-16 17:29:15</td>\n",
       "      <td>Fulton St &amp; Broadway</td>\n",
       "      <td>Mercer St &amp; Spring St</td>\n",
       "      <td>40.711066</td>\n",
       "      <td>-74.009447</td>\n",
       "      <td>40.723627</td>\n",
       "      <td>-73.999496</td>\n",
       "      <td>Casual</td>\n",
       "    </tr>\n",
       "    <tr>\n",
       "      <th>2</th>\n",
       "      <td>Classic Bike</td>\n",
       "      <td>2021-06-07 19:41:55</td>\n",
       "      <td>2021-06-07 19:51:28</td>\n",
       "      <td>Devoe St &amp; Lorimer St</td>\n",
       "      <td>Manhattan Av &amp; Leonard St</td>\n",
       "      <td>40.713352</td>\n",
       "      <td>-73.949103</td>\n",
       "      <td>40.720840</td>\n",
       "      <td>-73.948440</td>\n",
       "      <td>Casual</td>\n",
       "    </tr>\n",
       "    <tr>\n",
       "      <th>3</th>\n",
       "      <td>Electric Bike</td>\n",
       "      <td>2021-06-17 15:13:15</td>\n",
       "      <td>2021-06-17 15:33:25</td>\n",
       "      <td>Driggs Ave &amp; N 9 St</td>\n",
       "      <td>Greenwich Ave &amp; Charles St</td>\n",
       "      <td>40.718169</td>\n",
       "      <td>-73.955201</td>\n",
       "      <td>40.735238</td>\n",
       "      <td>-74.000271</td>\n",
       "      <td>Member</td>\n",
       "    </tr>\n",
       "    <tr>\n",
       "      <th>4</th>\n",
       "      <td>Electric Bike</td>\n",
       "      <td>2021-06-18 08:27:03</td>\n",
       "      <td>2021-06-18 08:53:37</td>\n",
       "      <td>Graham Ave &amp; Conselyea St</td>\n",
       "      <td>E 30 St &amp; Park Ave S</td>\n",
       "      <td>40.715143</td>\n",
       "      <td>-73.944507</td>\n",
       "      <td>40.744449</td>\n",
       "      <td>-73.983035</td>\n",
       "      <td>Member</td>\n",
       "    </tr>\n",
       "  </tbody>\n",
       "</table>\n",
       "</div>"
      ],
      "text/plain": [
       "   rideable_type           started_at             ended_at  \\\n",
       "0   Classic Bike  2021-06-01 23:12:34  2021-06-01 23:14:46   \n",
       "1   Classic Bike  2021-06-16 17:14:56  2021-06-16 17:29:15   \n",
       "2   Classic Bike  2021-06-07 19:41:55  2021-06-07 19:51:28   \n",
       "3  Electric Bike  2021-06-17 15:13:15  2021-06-17 15:33:25   \n",
       "4  Electric Bike  2021-06-18 08:27:03  2021-06-18 08:53:37   \n",
       "\n",
       "          start_station_name            end_station_name  start_lat  \\\n",
       "0        Driggs Ave & N 9 St      Bayard St & Leonard St  40.718169   \n",
       "1       Fulton St & Broadway       Mercer St & Spring St  40.711066   \n",
       "2      Devoe St & Lorimer St   Manhattan Av & Leonard St  40.713352   \n",
       "3        Driggs Ave & N 9 St  Greenwich Ave & Charles St  40.718169   \n",
       "4  Graham Ave & Conselyea St        E 30 St & Park Ave S  40.715143   \n",
       "\n",
       "   start_lng    end_lat    end_lng member_casual  \n",
       "0 -73.955201  40.719156 -73.948854        Member  \n",
       "1 -74.009447  40.723627 -73.999496        Casual  \n",
       "2 -73.949103  40.720840 -73.948440        Casual  \n",
       "3 -73.955201  40.735238 -74.000271        Member  \n",
       "4 -73.944507  40.744449 -73.983035        Member  "
      ]
     },
     "execution_count": 5,
     "metadata": {},
     "output_type": "execute_result"
    }
   ],
   "source": [
    "CB_Data.head()"
   ]
  },
  {
   "cell_type": "code",
   "execution_count": 6,
   "id": "e7eece84",
   "metadata": {},
   "outputs": [
    {
     "data": {
      "text/plain": [
       "rideable_type          object\n",
       "started_at             object\n",
       "ended_at               object\n",
       "start_station_name     object\n",
       "end_station_name       object\n",
       "start_lat             float64\n",
       "start_lng             float64\n",
       "end_lat               float64\n",
       "end_lng               float64\n",
       "member_casual          object\n",
       "dtype: object"
      ]
     },
     "execution_count": 6,
     "metadata": {},
     "output_type": "execute_result"
    }
   ],
   "source": [
    "CB_Data.dtypes"
   ]
  },
  {
   "cell_type": "code",
   "execution_count": 7,
   "id": "0673e839",
   "metadata": {},
   "outputs": [
    {
     "data": {
      "text/plain": [
       "<bound method NDFrame.describe of           rideable_type           started_at             ended_at  \\\n",
       "0          Classic Bike  2021-06-01 23:12:34  2021-06-01 23:14:46   \n",
       "1          Classic Bike  2021-06-16 17:14:56  2021-06-16 17:29:15   \n",
       "2          Classic Bike  2021-06-07 19:41:55  2021-06-07 19:51:28   \n",
       "3         Electric Bike  2021-06-17 15:13:15  2021-06-17 15:33:25   \n",
       "4         Electric Bike  2021-06-18 08:27:03  2021-06-18 08:53:37   \n",
       "...                 ...                  ...                  ...   \n",
       "29032978   Classic Bike  2022-05-15 07:57:48  2022-05-15 08:12:55   \n",
       "29032979   Classic Bike  2022-05-05 18:13:05  2022-05-05 18:20:10   \n",
       "29032980   Classic Bike  2022-05-28 00:12:09  2022-05-28 00:30:00   \n",
       "29032981   Classic Bike  2022-05-19 13:06:36  2022-05-19 13:18:02   \n",
       "29032982   Classic Bike  2022-05-09 18:47:28  2022-05-09 18:52:38   \n",
       "\n",
       "                 start_station_name            end_station_name  start_lat  \\\n",
       "0               Driggs Ave & N 9 St      Bayard St & Leonard St  40.718169   \n",
       "1              Fulton St & Broadway       Mercer St & Spring St  40.711066   \n",
       "2             Devoe St & Lorimer St   Manhattan Av & Leonard St  40.713352   \n",
       "3               Driggs Ave & N 9 St  Greenwich Ave & Charles St  40.718169   \n",
       "4         Graham Ave & Conselyea St        E 30 St & Park Ave S  40.715143   \n",
       "...                             ...                         ...        ...   \n",
       "29032978         Broadway & W 36 St      West End Ave & W 60 St  40.750977   \n",
       "29032979       Crescent St & 30 Ave        Vernon Blvd & 31 Ave  40.768692   \n",
       "29032980             45 Ave & 21 St        Vernon Blvd & 31 Ave  40.747371   \n",
       "29032981       Crescent St & 30 Ave              46 St & 28 Ave  40.768692   \n",
       "29032982            W 50 St & 9 Ave      West End Ave & W 60 St  40.763605   \n",
       "\n",
       "          start_lng    end_lat    end_lng member_casual  \n",
       "0        -73.955201  40.719156 -73.948854        Member  \n",
       "1        -74.009447  40.723627 -73.999496        Casual  \n",
       "2        -73.949103  40.720840 -73.948440        Casual  \n",
       "3        -73.955201  40.735238 -74.000271        Member  \n",
       "4        -73.944507  40.744449 -73.983035        Member  \n",
       "...             ...        ...        ...           ...  \n",
       "29032978 -73.987654  40.772370 -73.990050        Member  \n",
       "29032979 -73.924957  40.769247 -73.935450        Member  \n",
       "29032980 -73.947773  40.769247 -73.935450        Member  \n",
       "29032981 -73.924957  40.763328 -73.908782        Member  \n",
       "29032982 -73.989180  40.772370 -73.990050        Member  \n",
       "\n",
       "[27380897 rows x 10 columns]>"
      ]
     },
     "execution_count": 7,
     "metadata": {},
     "output_type": "execute_result"
    }
   ],
   "source": [
    "CB_Data.describe"
   ]
  },
  {
   "cell_type": "code",
   "execution_count": 8,
   "id": "c0203212",
   "metadata": {},
   "outputs": [
    {
     "data": {
      "text/plain": [
       "rideable_type         0\n",
       "started_at            0\n",
       "ended_at              0\n",
       "start_station_name    0\n",
       "end_station_name      0\n",
       "start_lat             0\n",
       "start_lng             0\n",
       "end_lat               0\n",
       "end_lng               0\n",
       "member_casual         0\n",
       "dtype: int64"
      ]
     },
     "execution_count": 8,
     "metadata": {},
     "output_type": "execute_result"
    }
   ],
   "source": [
    "CB_Data.isna().sum()"
   ]
  },
  {
   "cell_type": "code",
   "execution_count": 9,
   "id": "bf65ec65",
   "metadata": {},
   "outputs": [
    {
     "name": "stdout",
     "output_type": "stream",
     "text": [
      "<class 'pandas.core.frame.DataFrame'>\n",
      "Int64Index: 27380897 entries, 0 to 29032982\n",
      "Data columns (total 10 columns):\n",
      " #   Column              Dtype  \n",
      "---  ------              -----  \n",
      " 0   rideable_type       object \n",
      " 1   started_at          object \n",
      " 2   ended_at            object \n",
      " 3   start_station_name  object \n",
      " 4   end_station_name    object \n",
      " 5   start_lat           float64\n",
      " 6   start_lng           float64\n",
      " 7   end_lat             float64\n",
      " 8   end_lng             float64\n",
      " 9   member_casual       object \n",
      "dtypes: float64(4), object(6)\n",
      "memory usage: 2.2+ GB\n"
     ]
    }
   ],
   "source": [
    "CB_Data.info()"
   ]
  },
  {
   "cell_type": "markdown",
   "id": "9a588d02",
   "metadata": {},
   "source": [
    "Create a modified dataframe as a copy of the imported dataframe for feature engineering."
   ]
  },
  {
   "cell_type": "code",
   "execution_count": 10,
   "id": "2482c266",
   "metadata": {},
   "outputs": [],
   "source": [
    "CB_Data_Mod = CB_Data.copy()"
   ]
  },
  {
   "cell_type": "markdown",
   "id": "21893df8",
   "metadata": {},
   "source": [
    "Check data types of **started_at** and **ended_at** to see how their time stamp information can be used."
   ]
  },
  {
   "cell_type": "code",
   "execution_count": 12,
   "id": "21310c18",
   "metadata": {},
   "outputs": [
    {
     "data": {
      "text/plain": [
       "started_at    object\n",
       "ended_at      object\n",
       "dtype: object"
      ]
     },
     "execution_count": 12,
     "metadata": {},
     "output_type": "execute_result"
    }
   ],
   "source": [
    "CB_Data_Mod[['started_at', 'ended_at']].dtypes"
   ]
  },
  {
   "cell_type": "markdown",
   "id": "9d34ecba",
   "metadata": {},
   "source": [
    "Check data types of the first elements of these columns for further detail."
   ]
  },
  {
   "cell_type": "code",
   "execution_count": 16,
   "id": "cbfede61",
   "metadata": {},
   "outputs": [
    {
     "name": "stdout",
     "output_type": "stream",
     "text": [
      "<class 'str'>\n",
      "<class 'str'>\n"
     ]
    }
   ],
   "source": [
    "print(type(CB_Data_Mod.started_at[0]))\n",
    "print(type(CB_Data_Mod.ended_at[0]))"
   ]
  },
  {
   "cell_type": "markdown",
   "id": "340faeec",
   "metadata": {},
   "source": [
    "Since such objects are strings, they need to be converted to timestamps in order to work for extracting date and time information from them to be used as features, as well as calculating ride durations."
   ]
  },
  {
   "cell_type": "code",
   "execution_count": 18,
   "id": "0553a0ef",
   "metadata": {},
   "outputs": [],
   "source": [
    "# From https://dataindependent.com/pandas/pandas-to-datetime-string-to-date-pd-to_datetime/\n",
    "CB_Data_Mod.started_at = pd.to_datetime(CB_Data_Mod.started_at, format=\"%Y-%m-%d %H:%M:%S\")\n",
    "CB_Data_Mod.ended_at = pd.to_datetime(CB_Data_Mod.ended_at, format=\"%Y-%m-%d %H:%M:%S\")"
   ]
  },
  {
   "cell_type": "markdown",
   "id": "2496e1f6",
   "metadata": {},
   "source": [
    "Check the data types of the first elements of these columns again."
   ]
  },
  {
   "cell_type": "code",
   "execution_count": 19,
   "id": "3016859a",
   "metadata": {},
   "outputs": [
    {
     "name": "stdout",
     "output_type": "stream",
     "text": [
      "<class 'pandas._libs.tslibs.timestamps.Timestamp'>\n",
      "<class 'pandas._libs.tslibs.timestamps.Timestamp'>\n"
     ]
    }
   ],
   "source": [
    "print(type(CB_Data_Mod.started_at[0]))\n",
    "print(type(CB_Data_Mod.ended_at[0]))"
   ]
  },
  {
   "cell_type": "markdown",
   "id": "e0eb528d",
   "metadata": {},
   "source": [
    "Examine what are the valuable bits of information to extract from the timestamp."
   ]
  },
  {
   "cell_type": "code",
   "execution_count": 47,
   "id": "acf0a035",
   "metadata": {},
   "outputs": [
    {
     "name": "stdout",
     "output_type": "stream",
     "text": [
      "Year:             2021\n",
      "Month:            6\n",
      "Week of the Year: 22\n",
      "Day of the Week:  1\n",
      "Hour of the Day:  23\n",
      "Ride Duration:    2.2 minutes\n",
      "Name of Month:    June\n",
      "Name of Weekday:  Tuesday\n"
     ]
    }
   ],
   "source": [
    "# Quantitative\n",
    "print(f\"Year:             {CB_Data_Mod.started_at[0].year}\")\n",
    "print(f\"Month:            {CB_Data_Mod.started_at[0].month}\")\n",
    "print(f\"Week of the Year: {CB_Data_Mod.started_at[0].week}\")\n",
    "print(f\"Day of the Week:  {CB_Data_Mod.started_at[0].day_of_week}\")\n",
    "print(f\"Hour of the Day:  {CB_Data_Mod.started_at[0].hour}\")\n",
    "print(f\"Ride Duration:    {(CB_Data_Mod.ended_at[0] - CB_Data_Mod.started_at[0])/np.timedelta64(1,'m')} minutes\")\n",
    "\n",
    "# Categorical\n",
    "print(f\"Name of Month:    {CB_Data_Mod.started_at[0].month_name()}\")\n",
    "print(f\"Name of Weekday:  {CB_Data_Mod.started_at[0].day_name()}\")"
   ]
  },
  {
   "cell_type": "markdown",
   "id": "06b315d1",
   "metadata": {},
   "source": [
    "With this knowledge, time to create new parameters that quantify them."
   ]
  },
  {
   "cell_type": "code",
   "execution_count": 52,
   "id": "63307d69",
   "metadata": {},
   "outputs": [
    {
     "name": "stderr",
     "output_type": "stream",
     "text": [
      "/var/folders/kg/5clnm8vj1jz2tlvmfxjvq3_00000gn/T/ipykernel_1504/3267267385.py:3: FutureWarning: Series.dt.weekofyear and Series.dt.week have been deprecated.  Please use Series.dt.isocalendar().week instead.\n",
      "  CB_Data_Mod['week_of_year'] = CB_Data_Mod.started_at.dt.week\n"
     ]
    }
   ],
   "source": [
    "CB_Data_Mod['year'] = CB_Data_Mod.started_at.dt.year\n",
    "CB_Data_Mod['month'] = CB_Data_Mod.started_at.dt.month\n",
    "CB_Data_Mod['week_of_year'] = CB_Data_Mod.started_at.dt.week\n",
    "CB_Data_Mod['day_of_week'] = CB_Data_Mod.started_at.dt.day_of_week\n",
    "CB_Data_Mod['hour_of_day'] = CB_Data_Mod.started_at.dt.hour\n",
    "CB_Data_Mod['duration_min'] = (CB_Data_Mod.ended_at - CB_Data_Mod.started_at)/np.timedelta64(1,'m')"
   ]
  },
  {
   "cell_type": "markdown",
   "id": "f9e83b1f",
   "metadata": {},
   "source": [
    "Calculate distance based on Manhattan distance between latitude and longitude."
   ]
  },
  {
   "cell_type": "code",
   "execution_count": null,
   "id": "f8dda682",
   "metadata": {
    "scrolled": true
   },
   "outputs": [],
   "source": [
    "# Conversion factor here:\n",
    "# https://www.usgs.gov/faqs/how-much-distance-does-degree-minute-and-second-cover-your-maps#:~:text=One%20degree%20of%20latitude%20equals,one%20second%20equals%2080%20feet.\n",
    "CB_Data_Mod['distance_mi'] = 69 * ( abs( CB_Data_Mod.start_lat - CB_Data_Mod.end_lat ) \n",
    "                                  + abs( CB_Data_Mod.start_lng - CB_Data_Mod.end_lng ) )"
   ]
  },
  {
   "cell_type": "markdown",
   "id": "0e3f893e",
   "metadata": {},
   "source": [
    "Calculate speed in mph based on duration and distance."
   ]
  },
  {
   "cell_type": "code",
   "execution_count": 61,
   "id": "998acba7",
   "metadata": {},
   "outputs": [],
   "source": [
    "CB_Data_Mod['speed_mph'] = CB_Data_Mod.distance_mi / (CB_Data_Mod.duration_min / 60)"
   ]
  },
  {
   "cell_type": "code",
   "execution_count": 62,
   "id": "2c435361",
   "metadata": {},
   "outputs": [
    {
     "data": {
      "text/html": [
       "<div>\n",
       "<style scoped>\n",
       "    .dataframe tbody tr th:only-of-type {\n",
       "        vertical-align: middle;\n",
       "    }\n",
       "\n",
       "    .dataframe tbody tr th {\n",
       "        vertical-align: top;\n",
       "    }\n",
       "\n",
       "    .dataframe thead th {\n",
       "        text-align: right;\n",
       "    }\n",
       "</style>\n",
       "<table border=\"1\" class=\"dataframe\">\n",
       "  <thead>\n",
       "    <tr style=\"text-align: right;\">\n",
       "      <th></th>\n",
       "      <th>rideable_type</th>\n",
       "      <th>started_at</th>\n",
       "      <th>ended_at</th>\n",
       "      <th>start_station_name</th>\n",
       "      <th>end_station_name</th>\n",
       "      <th>start_lat</th>\n",
       "      <th>start_lng</th>\n",
       "      <th>end_lat</th>\n",
       "      <th>end_lng</th>\n",
       "      <th>member_casual</th>\n",
       "      <th>year</th>\n",
       "      <th>month</th>\n",
       "      <th>week_of_year</th>\n",
       "      <th>day_of_week</th>\n",
       "      <th>hour_of_day</th>\n",
       "      <th>duration_min</th>\n",
       "      <th>distance_mi</th>\n",
       "      <th>speed_mph</th>\n",
       "    </tr>\n",
       "  </thead>\n",
       "  <tbody>\n",
       "    <tr>\n",
       "      <th>0</th>\n",
       "      <td>Classic Bike</td>\n",
       "      <td>2021-06-01 23:12:34</td>\n",
       "      <td>2021-06-01 23:14:46</td>\n",
       "      <td>Driggs Ave &amp; N 9 St</td>\n",
       "      <td>Bayard St &amp; Leonard St</td>\n",
       "      <td>40.718169</td>\n",
       "      <td>-73.955201</td>\n",
       "      <td>40.719156</td>\n",
       "      <td>-73.948854</td>\n",
       "      <td>Member</td>\n",
       "      <td>2021</td>\n",
       "      <td>6</td>\n",
       "      <td>22</td>\n",
       "      <td>1</td>\n",
       "      <td>23</td>\n",
       "      <td>2.200000</td>\n",
       "      <td>0.506033</td>\n",
       "      <td>13.800891</td>\n",
       "    </tr>\n",
       "    <tr>\n",
       "      <th>1</th>\n",
       "      <td>Classic Bike</td>\n",
       "      <td>2021-06-16 17:14:56</td>\n",
       "      <td>2021-06-16 17:29:15</td>\n",
       "      <td>Fulton St &amp; Broadway</td>\n",
       "      <td>Mercer St &amp; Spring St</td>\n",
       "      <td>40.711066</td>\n",
       "      <td>-74.009447</td>\n",
       "      <td>40.723627</td>\n",
       "      <td>-73.999496</td>\n",
       "      <td>Casual</td>\n",
       "      <td>2021</td>\n",
       "      <td>6</td>\n",
       "      <td>24</td>\n",
       "      <td>2</td>\n",
       "      <td>17</td>\n",
       "      <td>14.316667</td>\n",
       "      <td>1.553328</td>\n",
       "      <td>6.509873</td>\n",
       "    </tr>\n",
       "    <tr>\n",
       "      <th>2</th>\n",
       "      <td>Classic Bike</td>\n",
       "      <td>2021-06-07 19:41:55</td>\n",
       "      <td>2021-06-07 19:51:28</td>\n",
       "      <td>Devoe St &amp; Lorimer St</td>\n",
       "      <td>Manhattan Av &amp; Leonard St</td>\n",
       "      <td>40.713352</td>\n",
       "      <td>-73.949103</td>\n",
       "      <td>40.720840</td>\n",
       "      <td>-73.948440</td>\n",
       "      <td>Casual</td>\n",
       "      <td>2021</td>\n",
       "      <td>6</td>\n",
       "      <td>23</td>\n",
       "      <td>0</td>\n",
       "      <td>19</td>\n",
       "      <td>9.550000</td>\n",
       "      <td>0.562419</td>\n",
       "      <td>3.533523</td>\n",
       "    </tr>\n",
       "    <tr>\n",
       "      <th>3</th>\n",
       "      <td>Electric Bike</td>\n",
       "      <td>2021-06-17 15:13:15</td>\n",
       "      <td>2021-06-17 15:33:25</td>\n",
       "      <td>Driggs Ave &amp; N 9 St</td>\n",
       "      <td>Greenwich Ave &amp; Charles St</td>\n",
       "      <td>40.718169</td>\n",
       "      <td>-73.955201</td>\n",
       "      <td>40.735238</td>\n",
       "      <td>-74.000271</td>\n",
       "      <td>Member</td>\n",
       "      <td>2021</td>\n",
       "      <td>6</td>\n",
       "      <td>24</td>\n",
       "      <td>3</td>\n",
       "      <td>15</td>\n",
       "      <td>20.166667</td>\n",
       "      <td>4.287591</td>\n",
       "      <td>12.756469</td>\n",
       "    </tr>\n",
       "    <tr>\n",
       "      <th>4</th>\n",
       "      <td>Electric Bike</td>\n",
       "      <td>2021-06-18 08:27:03</td>\n",
       "      <td>2021-06-18 08:53:37</td>\n",
       "      <td>Graham Ave &amp; Conselyea St</td>\n",
       "      <td>E 30 St &amp; Park Ave S</td>\n",
       "      <td>40.715143</td>\n",
       "      <td>-73.944507</td>\n",
       "      <td>40.744449</td>\n",
       "      <td>-73.983035</td>\n",
       "      <td>Member</td>\n",
       "      <td>2021</td>\n",
       "      <td>6</td>\n",
       "      <td>24</td>\n",
       "      <td>4</td>\n",
       "      <td>8</td>\n",
       "      <td>26.566667</td>\n",
       "      <td>4.680581</td>\n",
       "      <td>10.570947</td>\n",
       "    </tr>\n",
       "  </tbody>\n",
       "</table>\n",
       "</div>"
      ],
      "text/plain": [
       "   rideable_type          started_at            ended_at  \\\n",
       "0   Classic Bike 2021-06-01 23:12:34 2021-06-01 23:14:46   \n",
       "1   Classic Bike 2021-06-16 17:14:56 2021-06-16 17:29:15   \n",
       "2   Classic Bike 2021-06-07 19:41:55 2021-06-07 19:51:28   \n",
       "3  Electric Bike 2021-06-17 15:13:15 2021-06-17 15:33:25   \n",
       "4  Electric Bike 2021-06-18 08:27:03 2021-06-18 08:53:37   \n",
       "\n",
       "          start_station_name            end_station_name  start_lat  \\\n",
       "0        Driggs Ave & N 9 St      Bayard St & Leonard St  40.718169   \n",
       "1       Fulton St & Broadway       Mercer St & Spring St  40.711066   \n",
       "2      Devoe St & Lorimer St   Manhattan Av & Leonard St  40.713352   \n",
       "3        Driggs Ave & N 9 St  Greenwich Ave & Charles St  40.718169   \n",
       "4  Graham Ave & Conselyea St        E 30 St & Park Ave S  40.715143   \n",
       "\n",
       "   start_lng    end_lat    end_lng member_casual  year  month  week_of_year  \\\n",
       "0 -73.955201  40.719156 -73.948854        Member  2021      6            22   \n",
       "1 -74.009447  40.723627 -73.999496        Casual  2021      6            24   \n",
       "2 -73.949103  40.720840 -73.948440        Casual  2021      6            23   \n",
       "3 -73.955201  40.735238 -74.000271        Member  2021      6            24   \n",
       "4 -73.944507  40.744449 -73.983035        Member  2021      6            24   \n",
       "\n",
       "   day_of_week  hour_of_day  duration_min  distance_mi  speed_mph  \n",
       "0            1           23      2.200000     0.506033  13.800891  \n",
       "1            2           17     14.316667     1.553328   6.509873  \n",
       "2            0           19      9.550000     0.562419   3.533523  \n",
       "3            3           15     20.166667     4.287591  12.756469  \n",
       "4            4            8     26.566667     4.680581  10.570947  "
      ]
     },
     "execution_count": 62,
     "metadata": {},
     "output_type": "execute_result"
    }
   ],
   "source": [
    "CB_Data_Mod.head()"
   ]
  }
 ],
 "metadata": {
  "kernelspec": {
   "display_name": "Python 3 (ipykernel)",
   "language": "python",
   "name": "python3"
  },
  "language_info": {
   "codemirror_mode": {
    "name": "ipython",
    "version": 3
   },
   "file_extension": ".py",
   "mimetype": "text/x-python",
   "name": "python",
   "nbconvert_exporter": "python",
   "pygments_lexer": "ipython3",
   "version": "3.9.7"
  }
 },
 "nbformat": 4,
 "nbformat_minor": 5
}
