{
 "cells": [
  {
   "cell_type": "markdown",
   "id": "803b1fe6",
   "metadata": {},
   "source": [
    "# To eBike or Not to eBike?"
   ]
  },
  {
   "cell_type": "markdown",
   "id": "19486393",
   "metadata": {},
   "source": [
    "## Combine .csv Files to Export to .parquet"
   ]
  },
  {
   "cell_type": "markdown",
   "id": "c71a3f42",
   "metadata": {},
   "source": [
    "<a id=toc></a>\n",
    "## Table of Contents\n",
    "\n",
    "<ul>\n",
    "    <li><a href=#01-import-packages>Import Packages</a>\n",
    "    <li><a href=#02-load-dataset>Load Datasets</a>\n",
    "    <li><a href=#03-drop-columns>Drop Columns</a>\n",
    "    <li><a href=#04-convert-pandas>Convert DataFrame Format</a>\n",
    "    <li><a href=#05-write-parquet>Write .parquet File</a>\n",
    "</ul>"
   ]
  },
  {
   "cell_type": "markdown",
   "id": "2bd5923f",
   "metadata": {},
   "source": [
    "<a id=01-import-packages></a>\n",
    "## Import Packages"
   ]
  },
  {
   "cell_type": "markdown",
   "id": "7c15164a",
   "metadata": {},
   "source": [
    "Import necessary packages."
   ]
  },
  {
   "cell_type": "code",
   "execution_count": 1,
   "id": "35facef2",
   "metadata": {},
   "outputs": [],
   "source": [
    "# Numerical and data\n",
    "import pandas as pd\n",
    "import numpy as np\n",
    "\n",
    "# Apache parquet files (to save space)\n",
    "import pyarrow as pa\n",
    "import pyarrow.parquet as pq"
   ]
  },
  {
   "cell_type": "markdown",
   "id": "ddbdfb1d",
   "metadata": {},
   "source": [
    "<a href=#toc>Back to the top</a>"
   ]
  },
  {
   "cell_type": "markdown",
   "id": "297bed45",
   "metadata": {},
   "source": [
    "<a id=02-load-dataset></a>\n",
    "## Load Datasets"
   ]
  },
  {
   "cell_type": "markdown",
   "id": "5a5ac6f1",
   "metadata": {},
   "source": [
    "Load CSV files for months and years into their own dataframes and combine them."
   ]
  },
  {
   "cell_type": "code",
   "execution_count": 2,
   "id": "595c96b6",
   "metadata": {},
   "outputs": [],
   "source": [
    "CB_01 = pd.read_csv('CitiBike_data/Raw/New_Format/202106-citibike-tripdata.csv', low_memory=False)\n",
    "CB_02 = pd.read_csv('CitiBike_data/Raw/New_Format/202107-citibike-tripdata.csv', low_memory=False)\n",
    "CB_03 = pd.read_csv('CitiBike_data/Raw/New_Format/202108-citibike-tripdata.csv', low_memory=False)\n",
    "CB_04 = pd.read_csv('CitiBike_data/Raw/New_Format/202109-citibike-tripdata.csv', low_memory=False)\n",
    "CB_05 = pd.read_csv('CitiBike_data/Raw/New_Format/202110-citibike-tripdata.csv', low_memory=False)\n",
    "CB_06 = pd.read_csv('CitiBike_data/Raw/New_Format/202111-citibike-tripdata.csv', low_memory=False)\n",
    "CB_07 = pd.read_csv('CitiBike_data/Raw/New_Format/202112-citibike-tripdata.csv', low_memory=False)\n",
    "CB_08 = pd.read_csv('CitiBike_data/Raw/New_Format/202201-citibike-tripdata.csv', low_memory=False)\n",
    "CB_09 = pd.read_csv('CitiBike_data/Raw/New_Format/202202-citibike-tripdata.csv', low_memory=False)\n",
    "CB_10 = pd.read_csv('CitiBike_data/Raw/New_Format/202203-citibike-tripdata.csv', low_memory=False)\n",
    "CB_11 = pd.read_csv('CitiBike_data/Raw/New_Format/202204-citibike-tripdata.csv', low_memory=False)\n",
    "CB_12 = pd.read_csv('CitiBike_data/Raw/New_Format/202205-citibike-tripdata.csv', low_memory=False)\n",
    "\n",
    "months = [CB_01, CB_02, CB_03, CB_04, CB_05, CB_06, CB_07, CB_08, CB_09, CB_10, CB_11, CB_12]\n",
    "\n",
    "CB_Data = pd.concat(months, ignore_index=True, sort=False)"
   ]
  },
  {
   "cell_type": "markdown",
   "id": "6807c826",
   "metadata": {},
   "source": [
    "<a href=#toc>Back to the top</a>"
   ]
  },
  {
   "cell_type": "markdown",
   "id": "f4231165",
   "metadata": {},
   "source": [
    "<a id=03-drop-columns></a>\n",
    "## Drop Columns"
   ]
  },
  {
   "cell_type": "markdown",
   "id": "1824cc69",
   "metadata": {},
   "source": [
    "Drop columns that are not relevant."
   ]
  },
  {
   "cell_type": "code",
   "execution_count": 7,
   "id": "3146f057",
   "metadata": {},
   "outputs": [],
   "source": [
    "drop_col = ['ride_id', 'start_station_id', 'end_station_id']\n",
    "CB_Data_clean = CB_Data.drop(axis = 1, columns = drop_col)"
   ]
  },
  {
   "cell_type": "markdown",
   "id": "504f1679",
   "metadata": {},
   "source": [
    "<a href=#toc>Back to the top</a>"
   ]
  },
  {
   "cell_type": "markdown",
   "id": "5944cfe9",
   "metadata": {},
   "source": [
    "<a id=04-convert-pandas></a>\n",
    "## Convert DataFrame Format"
   ]
  },
  {
   "cell_type": "markdown",
   "id": "64d0e215",
   "metadata": {},
   "source": [
    "Convert combined pandas dataframe into pyarrow.Table format"
   ]
  },
  {
   "cell_type": "code",
   "execution_count": 8,
   "id": "cfef1cea",
   "metadata": {},
   "outputs": [],
   "source": [
    "CB_Data_arrow = pa.Table.from_pandas(CB_Data_clean)"
   ]
  },
  {
   "cell_type": "markdown",
   "id": "e87e6616",
   "metadata": {},
   "source": [
    "<a href=#toc>Back to the top</a>"
   ]
  },
  {
   "cell_type": "markdown",
   "id": "fbe700b2",
   "metadata": {},
   "source": [
    "<a id=05-write-parquet></a>\n",
    "## Write .parquet File"
   ]
  },
  {
   "cell_type": "markdown",
   "id": "2c6c0985",
   "metadata": {},
   "source": [
    "Write a parquet file based on the combined dataframe for the year range of interest."
   ]
  },
  {
   "cell_type": "code",
   "execution_count": 9,
   "id": "c2046bcd",
   "metadata": {},
   "outputs": [],
   "source": [
    "pq.write_table(CB_Data_arrow, 'CitiBike_data/202106-202205-citibike-tripdata.parquet')"
   ]
  },
  {
   "cell_type": "markdown",
   "id": "a0abf1a4",
   "metadata": {},
   "source": [
    "<a href=#toc>Back to the top</a>"
   ]
  }
 ],
 "metadata": {
  "kernelspec": {
   "display_name": "Python 3 (ipykernel)",
   "language": "python",
   "name": "python3"
  },
  "language_info": {
   "codemirror_mode": {
    "name": "ipython",
    "version": 3
   },
   "file_extension": ".py",
   "mimetype": "text/x-python",
   "name": "python",
   "nbconvert_exporter": "python",
   "pygments_lexer": "ipython3",
   "version": "3.9.7"
  }
 },
 "nbformat": 4,
 "nbformat_minor": 5
}
