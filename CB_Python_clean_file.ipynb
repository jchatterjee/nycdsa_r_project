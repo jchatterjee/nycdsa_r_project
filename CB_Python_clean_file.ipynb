{
 "cells": [
  {
   "cell_type": "markdown",
   "id": "b6801835",
   "metadata": {},
   "source": [
    "Since the user experienced problems with R, further data cleaning shall be performed in Python for efficiency."
   ]
  },
  {
   "cell_type": "markdown",
   "id": "356f0d21",
   "metadata": {},
   "source": [
    "First, import relevant packages:"
   ]
  },
  {
   "cell_type": "code",
   "execution_count": 35,
   "id": "644350de",
   "metadata": {},
   "outputs": [],
   "source": [
    "import pandas as pd\n",
    "import numpy as np"
   ]
  },
  {
   "cell_type": "markdown",
   "id": "7bd95205",
   "metadata": {},
   "source": [
    "Next, load the CSV file into a dataframe:"
   ]
  },
  {
   "cell_type": "code",
   "execution_count": 2,
   "id": "8538c109",
   "metadata": {},
   "outputs": [],
   "source": [
    "# CB_Data = pd.read_csv('CitiBike_data/202105-202204-citibike-trip-data.csv', low_memory=False)"
   ]
  },
  {
   "cell_type": "markdown",
   "id": "4926e6bf",
   "metadata": {},
   "source": [
    "Now, eliminate all instances of \"joy rides\", in which the rider docked the bike at the same station, either due to literally riding for fun or having a problem with the bike."
   ]
  },
  {
   "cell_type": "code",
   "execution_count": 42,
   "id": "ac3d38ea",
   "metadata": {},
   "outputs": [
    {
     "data": {
      "text/plain": [
       "Int64Index([     258,      259,      260,      261,      262,      263,\n",
       "                 264,      265,      266,      267,\n",
       "            ...\n",
       "            28814993, 28814994, 28814995, 28814996, 28814997, 28814999,\n",
       "            28815001, 28815002, 28815003, 28815005],\n",
       "           dtype='int64', length=1542162)"
      ]
     },
     "execution_count": 42,
     "metadata": {},
     "output_type": "execute_result"
    }
   ],
   "source": [
    "# joy_rides = CB_Data.loc[CB_Data['start_station_name'] == CB_Data['end_station_name']]"
   ]
  },
  {
   "cell_type": "code",
   "execution_count": 43,
   "id": "89f6cd60",
   "metadata": {},
   "outputs": [],
   "source": [
    "# CB_Data = CB_Data.drop(joy_rides.index)"
   ]
  },
  {
   "cell_type": "markdown",
   "id": "0ef44f6e",
   "metadata": {},
   "source": [
    "Rule out the bikes that seem to come out of nowhere, if applicable"
   ]
  },
  {
   "cell_type": "code",
   "execution_count": 74,
   "id": "945c82ed",
   "metadata": {},
   "outputs": [],
   "source": [
    "# ghost_bikes = CB_Data.loc[CB_Data['start_station_name'] == 'Unknown']"
   ]
  },
  {
   "cell_type": "code",
   "execution_count": 76,
   "id": "b549ad40",
   "metadata": {},
   "outputs": [],
   "source": [
    "# CB_Data = CB_Data.drop(ghost_bikes.index)"
   ]
  },
  {
   "cell_type": "markdown",
   "id": "a38562cd",
   "metadata": {},
   "source": [
    "Now, rule out the missing bikes."
   ]
  },
  {
   "cell_type": "code",
   "execution_count": 77,
   "id": "631a6463",
   "metadata": {},
   "outputs": [],
   "source": [
    "# missing_bikes = CB_Data.loc[CB_Data['end_station_name'] == 'Unknown']"
   ]
  },
  {
   "cell_type": "code",
   "execution_count": 79,
   "id": "dc32901c",
   "metadata": {},
   "outputs": [],
   "source": [
    "# CB_Data = CB_Data.drop(missing_bikes.index)"
   ]
  },
  {
   "cell_type": "markdown",
   "id": "9a899a1f",
   "metadata": {},
   "source": [
    "Finally, rule out the rides that were never completed, most likely to a rider changing their decision."
   ]
  },
  {
   "cell_type": "code",
   "execution_count": 53,
   "id": "453c547b",
   "metadata": {},
   "outputs": [],
   "source": [
    "# no_rides = CB_Data.loc[CB_Data['duration'] == 0]"
   ]
  },
  {
   "cell_type": "code",
   "execution_count": 55,
   "id": "785c756d",
   "metadata": {},
   "outputs": [],
   "source": [
    "# CB_Data = CB_Data.drop(no_rides.index)"
   ]
  },
  {
   "cell_type": "markdown",
   "id": "30b5e912",
   "metadata": {},
   "source": [
    "The issue in the R data analysis was the inability to calculate speed, due to null values in the duration. Therefore, as a final check, such a calculation shall be performed in order to assess the cleanliness of this dataframe so far:"
   ]
  },
  {
   "cell_type": "code",
   "execution_count": 57,
   "id": "59901ac8",
   "metadata": {},
   "outputs": [],
   "source": [
    "# CB_Data['speed'] = CB_Data['distance'] / (0.0166667 * CB_Data['duration']) # in mph, convert min to hr at denom"
   ]
  },
  {
   "cell_type": "markdown",
   "id": "462aadc0",
   "metadata": {},
   "source": [
    "So far, so good. Now, the station names need cleanup through an iterative process"
   ]
  },
  {
   "cell_type": "code",
   "execution_count": 87,
   "id": "c95f694d",
   "metadata": {},
   "outputs": [],
   "source": [
    "nulls = CB_Data.loc[pd.isnull(CB_Data['CB_start_hood']) | pd.isnull(CB_Data['CB_end_hood'])]"
   ]
  },
  {
   "cell_type": "code",
   "execution_count": 88,
   "id": "da973b9c",
   "metadata": {
    "scrolled": false
   },
   "outputs": [
    {
     "data": {
      "text/plain": [
       "2 Ave & E 29 St                63472\n",
       "8 Ave & W 16 St                63362\n",
       "W 44 St & 11 Ave               56702\n",
       "Forsyth St\\t& Grand St         53086\n",
       "6 Ave & W 45 St                53012\n",
       "                               ...  \n",
       "Lab - NYC                          7\n",
       "E 6 St 2 Ave                       6\n",
       "Avenue D & E 8 St                  3\n",
       "Grand Concourse & E 161  St        2\n",
       "Yankee Ferry Terminal              1\n",
       "Name: start_station_name, Length: 1592, dtype: int64"
      ]
     },
     "execution_count": 88,
     "metadata": {},
     "output_type": "execute_result"
    }
   ],
   "source": [
    "nulls['start_station_name'].value_counts()"
   ]
  },
  {
   "cell_type": "code",
   "execution_count": 89,
   "id": "4a4b6e58",
   "metadata": {},
   "outputs": [
    {
     "data": {
      "text/plain": [
       "8 Ave & W 16 St           63465\n",
       "2 Ave & E 29 St           62081\n",
       "Forsyth St\\t& Grand St    53520\n",
       "6 Ave & W 45 St           53259\n",
       "W 44 St & 11 Ave          52587\n",
       "                          ...  \n",
       "Brunswick St                  1\n",
       "Hudson St & 4 St              1\n",
       "StuyTown Depot                1\n",
       "Jackson Square                1\n",
       "Adams St & 2 St               1\n",
       "Name: end_station_name, Length: 1672, dtype: int64"
      ]
     },
     "execution_count": 89,
     "metadata": {},
     "output_type": "execute_result"
    }
   ],
   "source": [
    "nulls['end_station_name'].value_counts()"
   ]
  },
  {
   "cell_type": "code",
   "execution_count": 86,
   "id": "960f80e8",
   "metadata": {},
   "outputs": [
    {
     "name": "stderr",
     "output_type": "stream",
     "text": [
      "/Users/jchatterjee/opt/anaconda3/lib/python3.9/site-packages/pandas/core/indexing.py:1732: SettingWithCopyWarning: \n",
      "A value is trying to be set on a copy of a slice from a DataFrame\n",
      "\n",
      "See the caveats in the documentation: https://pandas.pydata.org/pandas-docs/stable/user_guide/indexing.html#returning-a-view-versus-a-copy\n",
      "  self._setitem_single_block(indexer, value, name)\n"
     ]
    }
   ],
   "source": [
    "ques = ['Broadway & E 21 St','E 13 St & 2 Ave','Broadway & W 58 St','E 20 St & 2 Ave','5 Ave & E 72 St']\n",
    "hood = ['Midtown East','East Village','Midtown West','Midtown East','Upper East Side']\n",
    "boro = ['Manhattan','Manhattan','Manhattan','Manhattan','Manhattan']\n",
    "zipped = zip(ques, hood, boro)\n",
    "\n",
    "for q, h, b in zipped:\n",
    "    CB_Data.CB_start_hood.loc[CB_Data.start_station_name == q] = h\n",
    "    CB_Data.CB_start_boro.loc[CB_Data.start_station_name == q] = b\n",
    "    CB_Data.CB_end_hood.loc[CB_Data.end_station_name == q] = h\n",
    "    CB_Data.CB_end_boro.loc[CB_Data.end_station_name == q] = b"
   ]
  },
  {
   "cell_type": "code",
   "execution_count": 92,
   "id": "fa1a1811",
   "metadata": {
    "scrolled": true
   },
   "outputs": [],
   "source": [
    "CB_Data.to_csv('CitiBike_data/202105-202204-citibike-trip-data.csv')"
   ]
  }
 ],
 "metadata": {
  "kernelspec": {
   "display_name": "Python 3 (ipykernel)",
   "language": "python",
   "name": "python3"
  },
  "language_info": {
   "codemirror_mode": {
    "name": "ipython",
    "version": 3
   },
   "file_extension": ".py",
   "mimetype": "text/x-python",
   "name": "python",
   "nbconvert_exporter": "python",
   "pygments_lexer": "ipython3",
   "version": "3.9.7"
  }
 },
 "nbformat": 4,
 "nbformat_minor": 5
}
