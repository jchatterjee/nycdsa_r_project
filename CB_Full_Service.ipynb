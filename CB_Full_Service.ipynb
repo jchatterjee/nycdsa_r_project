{
 "cells": [
  {
   "cell_type": "markdown",
   "id": "be3210eb",
   "metadata": {},
   "source": [
    "This notebook shall perform all the functions that the ones written for combining, cleaning, feature engineering (preliminary), geolocation, and feature engineering (final) files are designed to do for efficiency, given the knowledge of the workflow that has been established."
   ]
  },
  {
   "cell_type": "markdown",
   "id": "231e1b6f",
   "metadata": {},
   "source": [
    "Import necessary packages."
   ]
  },
  {
   "cell_type": "code",
   "execution_count": 1,
   "id": "324c3ef2",
   "metadata": {},
   "outputs": [],
   "source": [
    "# Apache parquet files (to save space)\n",
    "import pyarrow as pa\n",
    "import pyarrow.parquet as pq\n",
    "\n",
    "# Dataframes and numerical\n",
    "import pandas as pd\n",
    "import numpy as np\n",
    "\n",
    "# Geolocation\n",
    "import geopandas as gpd\n",
    "import matplotlib.pyplot as plt\n",
    "\n",
    "# Increase pandas default display \n",
    "pd.options.display.max_rows = 250\n",
    "pd.options.display.max_columns = 250\n",
    "\n",
    "# Suppress warnings\n",
    "import warnings\n",
    "warnings.filterwarnings('ignore')"
   ]
  },
  {
   "cell_type": "markdown",
   "id": "68fe4eac",
   "metadata": {},
   "source": [
    "Load CSV files for months and years into their own dataframes and combine them."
   ]
  },
  {
   "cell_type": "code",
   "execution_count": 2,
   "id": "46b2c1c5",
   "metadata": {},
   "outputs": [],
   "source": [
    "CB_01 = pd.read_csv('CitiBike_data/Raw/New_Format/202105-citibike-tripdata.csv', low_memory=False)\n",
    "CB_02 = pd.read_csv('CitiBike_data/Raw/New_Format/202106-citibike-tripdata.csv', low_memory=False)\n",
    "CB_03 = pd.read_csv('CitiBike_data/Raw/New_Format/202107-citibike-tripdata.csv', low_memory=False)\n",
    "CB_04 = pd.read_csv('CitiBike_data/Raw/New_Format/202108-citibike-tripdata.csv', low_memory=False)\n",
    "CB_05 = pd.read_csv('CitiBike_data/Raw/New_Format/202109-citibike-tripdata.csv', low_memory=False)\n",
    "CB_06 = pd.read_csv('CitiBike_data/Raw/New_Format/202110-citibike-tripdata.csv', low_memory=False)\n",
    "CB_07 = pd.read_csv('CitiBike_data/Raw/New_Format/202111-citibike-tripdata.csv', low_memory=False)\n",
    "CB_08 = pd.read_csv('CitiBike_data/Raw/New_Format/202112-citibike-tripdata.csv', low_memory=False)\n",
    "CB_09 = pd.read_csv('CitiBike_data/Raw/New_Format/202201-citibike-tripdata.csv', low_memory=False)\n",
    "CB_10 = pd.read_csv('CitiBike_data/Raw/New_Format/202202-citibike-tripdata.csv', low_memory=False)\n",
    "CB_11 = pd.read_csv('CitiBike_data/Raw/New_Format/202203-citibike-tripdata.csv', low_memory=False)\n",
    "CB_12 = pd.read_csv('CitiBike_data/Raw/New_Format/202204-citibike-tripdata.csv', low_memory=False)\n",
    "\n",
    "months = [CB_01, CB_02, CB_03, CB_04, CB_05, CB_06, CB_07, CB_08, CB_09, CB_10, CB_11, CB_12]\n",
    "\n",
    "CB_Data = pd.concat(months, ignore_index=True, sort=False)"
   ]
  },
  {
   "cell_type": "markdown",
   "id": "f2e1e2e3",
   "metadata": {},
   "source": [
    "Drop columns that are not relevant."
   ]
  },
  {
   "cell_type": "code",
   "execution_count": 3,
   "id": "56b8dd26",
   "metadata": {},
   "outputs": [],
   "source": [
    "drop_col = ['ride_id', 'start_station_id', 'end_station_id']\n",
    "CB_Data = CB_Data.drop(axis = 1, columns = drop_col)"
   ]
  },
  {
   "cell_type": "markdown",
   "id": "03c4169f",
   "metadata": {},
   "source": [
    "Count total number of rides during that time frame (May 2021 through April 2021)."
   ]
  },
  {
   "cell_type": "code",
   "execution_count": 4,
   "id": "7d8a4886",
   "metadata": {},
   "outputs": [],
   "source": [
    "no_rides = len(CB_Data)"
   ]
  },
  {
   "cell_type": "markdown",
   "id": "0d17f96d",
   "metadata": {},
   "source": [
    "Check for null values."
   ]
  },
  {
   "cell_type": "code",
   "execution_count": 5,
   "id": "9e5b71b8",
   "metadata": {},
   "outputs": [
    {
     "name": "stdout",
     "output_type": "stream",
     "text": [
      "Total number of Citibike rides from May 2021 through April 2022: 28816548\n",
      "Total number of \"ghost bikes\" in that time frame: 390\n",
      "Total number of lost bikes in that time frame: 103846\n",
      "Total number of bikes being docked at the same location in that time frame: 1541775\n",
      "Total number of \"dud rides\" to be removed from data: 1646011\n",
      "Percentage of rides from May 2021 through April 2022 with bikes missing:       0.36172271571181946\n",
      "Percentage of rides from May 2021 through April 2022 with bikes docked at the same location:       5.350311217013225\n",
      "Total number of \"dud rides\" to be removed from data:       5.712033932725044\n"
     ]
    }
   ],
   "source": [
    "# \"Ghost bikes\" coming in from unknown locations\n",
    "bike_ghos = CB_Data.loc[pd.isnull(CB_Data.start_station_name)]\n",
    "no_bike_ghos = len(bike_ghos)\n",
    "\n",
    "# Bikes that are lost, i.e. not docked at the end\n",
    "bike_lost = CB_Data.loc[pd.isnull(CB_Data.end_station_name)]\n",
    "no_bike_lost = len(bike_lost)\n",
    "\n",
    "# Bikes that are docked at the same station they are picked up, for joyride, rider changing mind, defective bike, etc.\n",
    "bike_joyr = CB_Data.loc[CB_Data.start_station_name == CB_Data.end_station_name]\n",
    "no_bike_joyr = len(bike_joyr)\n",
    "\n",
    "print(f'Total number of Citibike rides from May 2021 through April 2022: {no_rides}')\n",
    "print(f'Total number of \"ghost bikes\" in that time frame: {no_bike_ghos}')\n",
    "print(f'Total number of lost bikes in that time frame: {no_bike_lost}')\n",
    "print(f'Total number of bikes being docked at the same location in that time frame: {no_bike_joyr}')\n",
    "print(f'Total number of \"dud rides\" to be removed from data: {no_bike_ghos + no_bike_lost + no_bike_joyr}')\n",
    "\n",
    "print(f'Percentage of rides from May 2021 through April 2022 with bikes missing: \\\n",
    "      {100*(no_bike_ghos + no_bike_lost)/no_rides}')\n",
    "print(f'Percentage of rides from May 2021 through April 2022 with bikes docked at the same location: \\\n",
    "      {100*no_bike_joyr/no_rides}')\n",
    "print(f'Total number of \"dud rides\" to be removed from data: \\\n",
    "      {100*(no_bike_ghos + no_bike_lost + no_bike_joyr)/no_rides}')"
   ]
  },
  {
   "cell_type": "markdown",
   "id": "a475f46c",
   "metadata": {},
   "source": [
    "Now, eliminate these \"dud rides\" once and for all."
   ]
  },
  {
   "cell_type": "code",
   "execution_count": 6,
   "id": "1a00e1c0",
   "metadata": {},
   "outputs": [],
   "source": [
    "dud_rides = bike_ghos.index.tolist() + bike_lost.index.tolist() + bike_joyr.index.tolist()\n",
    "\n",
    "CB_Data = CB_Data.drop(axis = 0, index = dud_rides)"
   ]
  },
  {
   "cell_type": "code",
   "execution_count": 7,
   "id": "4b515c49",
   "metadata": {},
   "outputs": [
    {
     "name": "stdout",
     "output_type": "stream",
     "text": [
      "Total number of rides to work with after clearning: 27170924\n"
     ]
    }
   ],
   "source": [
    "print(f'Total number of rides to work with after clearning: {len(CB_Data)}')"
   ]
  },
  {
   "cell_type": "markdown",
   "id": "4a5852f0",
   "metadata": {},
   "source": [
    "Make sure that all the values of **rideable_type** are consistent. In other words, **docked_bike** = **classic_bike**."
   ]
  },
  {
   "cell_type": "code",
   "execution_count": 8,
   "id": "317d830d",
   "metadata": {},
   "outputs": [],
   "source": [
    "CB_Data.rideable_type.loc[CB_Data.rideable_type == 'classic_bike'] = 'Classic Bike'\n",
    "CB_Data.rideable_type.loc[CB_Data.rideable_type == 'docked_bike'] = 'Classic Bike'\n",
    "CB_Data.rideable_type.loc[CB_Data.rideable_type == 'electric_bike'] = 'Electric Bike'"
   ]
  },
  {
   "cell_type": "markdown",
   "id": "db910b4b",
   "metadata": {},
   "source": [
    "Capitalize **member_casual** entries."
   ]
  },
  {
   "cell_type": "code",
   "execution_count": 9,
   "id": "8336c2fc",
   "metadata": {},
   "outputs": [],
   "source": [
    "CB_Data.member_casual.loc[CB_Data.member_casual == 'member'] = 'Member'\n",
    "CB_Data.member_casual.loc[CB_Data.member_casual == 'casual'] = 'Casual'"
   ]
  },
  {
   "cell_type": "markdown",
   "id": "b793d726",
   "metadata": {},
   "source": [
    "Convert to timestamps from strings to actual timestamp data types in order to work for extracting date and time information from them to be used as features, as well as calculating ride durations."
   ]
  },
  {
   "cell_type": "code",
   "execution_count": 10,
   "id": "57a0ced4",
   "metadata": {},
   "outputs": [],
   "source": [
    "# From https://dataindependent.com/pandas/pandas-to-datetime-string-to-date-pd-to_datetime/\n",
    "CB_Data.started_at = pd.to_datetime(CB_Data.started_at, format=\"%Y-%m-%d %H:%M:%S\")\n",
    "CB_Data.ended_at = pd.to_datetime(CB_Data.ended_at, format=\"%Y-%m-%d %H:%M:%S\")"
   ]
  },
  {
   "cell_type": "markdown",
   "id": "1e13f955",
   "metadata": {},
   "source": [
    "Since the heavy lifting associated with creating a master file of all stations in the CitiBike system have already been completed, just import it from its .parquet file at this point."
   ]
  },
  {
   "cell_type": "code",
   "execution_count": 11,
   "id": "20988464",
   "metadata": {},
   "outputs": [],
   "source": [
    "CB_Stations = pq.read_table('CitiBike_data/202206-citibike-stations.parquet').to_pandas()"
   ]
  },
  {
   "cell_type": "markdown",
   "id": "183f41dd",
   "metadata": {},
   "source": [
    "In order to normalize all coordinates of the distinct stations as well as the travel distances, durations, and speeds between the various stations; the averaged latitudes and longitudes of the dataframe **CB_Stations** shall replace those provided in the **CB_Data** one in addition to assigning borough and neighboorhood associations."
   ]
  },
  {
   "cell_type": "code",
   "execution_count": 12,
   "id": "18ea14ef",
   "metadata": {},
   "outputs": [],
   "source": [
    "# Join CB_Data with CB_Stations\n",
    "# Replace old coordinates with new ones\n",
    "CB_Data = CB_Data.join(CB_Stations, on='start_station_name', how='right')\n",
    "CB_Data = CB_Data.drop(columns=['start_lat', 'start_lng'])\n",
    "CB_Data = CB_Data.rename(columns={'lat': 'start_lat', 'lng': 'start_lng', 'boro': 'start_boro', 'hood': 'start_hood'})\n",
    "CB_Data = CB_Data.join(CB_Stations, on='end_station_name', how='right')\n",
    "CB_Data = CB_Data.drop(columns=['end_lat', 'end_lng'])\n",
    "CB_Data = CB_Data.rename(columns={'lat': 'end_lat', 'lng': 'end_lng', 'boro': 'end_boro', 'hood': 'end_hood'})"
   ]
  },
  {
   "cell_type": "markdown",
   "id": "f06c2fcf",
   "metadata": {},
   "source": [
    "Sort by index values."
   ]
  },
  {
   "cell_type": "code",
   "execution_count": 13,
   "id": "ccb934eb",
   "metadata": {},
   "outputs": [],
   "source": [
    "CB_Data = CB_Data.sort_index(ascending=True)"
   ]
  },
  {
   "cell_type": "markdown",
   "id": "3bf903f5",
   "metadata": {},
   "source": [
    "Drop any **NaN** values in the new dataframe."
   ]
  },
  {
   "cell_type": "code",
   "execution_count": 14,
   "id": "3f3c9754",
   "metadata": {},
   "outputs": [],
   "source": [
    "CB_Data = CB_Data.dropna(axis=0)"
   ]
  },
  {
   "cell_type": "markdown",
   "id": "accb6a13",
   "metadata": {},
   "source": [
    "Reconvert index in dataframe to integer."
   ]
  },
  {
   "cell_type": "code",
   "execution_count": 15,
   "id": "54b23e0c",
   "metadata": {},
   "outputs": [],
   "source": [
    "CB_Data.index = CB_Data.index.astype('int64')"
   ]
  },
  {
   "cell_type": "markdown",
   "id": "f954ff75",
   "metadata": {},
   "source": [
    "Calculate (Manhattan) distance and speed with normalized coordinates."
   ]
  },
  {
   "cell_type": "code",
   "execution_count": 16,
   "id": "db723a09",
   "metadata": {},
   "outputs": [],
   "source": [
    "# Conversion factor here:\n",
    "# https://www.usgs.gov/faqs/how-much-distance-does-degree-minute-and-second-cover-your-maps#:~:text=One%20degree%20of%20latitude%20equals,one%20second%20equals%2080%20feet.\n",
    "CB_Data['distance_mi'] = 69 * ( abs( CB_Data.start_lat - CB_Data.end_lat ) \n",
    "                                  + abs( CB_Data.start_lng - CB_Data.end_lng ) )\n",
    "CB_Data['duration_min'] = (CB_Data.ended_at - CB_Data.started_at)/np.timedelta64(1,'m')\n",
    "CB_Data['speed_mph'] = CB_Data.distance_mi / (CB_Data.duration_min / 60)"
   ]
  },
  {
   "cell_type": "markdown",
   "id": "aa4ee453",
   "metadata": {},
   "source": [
    "With the lengthy computations completed, dummify various values based on the timestamp."
   ]
  },
  {
   "cell_type": "code",
   "execution_count": 17,
   "id": "bdc25f14",
   "metadata": {},
   "outputs": [],
   "source": [
    "CB_Data['year'] = CB_Data.started_at.dt.year\n",
    "CB_Data['month'] = CB_Data.started_at.dt.month\n",
    "CB_Data['week_of_year'] = CB_Data.started_at.dt.week\n",
    "CB_Data['day_of_week'] = CB_Data.started_at.dt.day_of_week\n",
    "CB_Data['hour_of_day'] = CB_Data.started_at.dt.hour"
   ]
  },
  {
   "cell_type": "markdown",
   "id": "3ffc16b5",
   "metadata": {},
   "source": [
    "Ensure that nominal dummy values are integers."
   ]
  },
  {
   "cell_type": "code",
   "execution_count": 18,
   "id": "0c198c29",
   "metadata": {},
   "outputs": [],
   "source": [
    "CB_Data = CB_Data.astype({'year': int, 'month': int, 'week_of_year': int,\n",
    "                                  'day_of_week': int, 'hour_of_day': int})"
   ]
  },
  {
   "cell_type": "markdown",
   "id": "bd42cfb5",
   "metadata": {},
   "source": [
    "Reindex columns for readability."
   ]
  },
  {
   "cell_type": "code",
   "execution_count": 19,
   "id": "ebd71a0c",
   "metadata": {},
   "outputs": [],
   "source": [
    "col_names = ['member_casual', 'rideable_type',\n",
    "             'started_at', 'start_station_name', 'start_lat', 'start_lng', 'start_boro', 'start_hood',\n",
    "             'ended_at', 'end_station_name', 'end_lat', 'end_lng', 'end_boro', 'end_hood',\n",
    "             'year', 'month', 'week_of_year', 'day_of_week', 'hour_of_day',\n",
    "             'duration_min', 'distance_mi', 'speed_mph']\n",
    "CB_Data = CB_Data.reindex(columns=col_names)"
   ]
  },
  {
   "cell_type": "markdown",
   "id": "c303051d",
   "metadata": {},
   "source": [
    "Perform a final check of the structure and integrity of the dataframe before finally writing it to a .parquet file."
   ]
  },
  {
   "cell_type": "code",
   "execution_count": 20,
   "id": "f2869dee",
   "metadata": {},
   "outputs": [
    {
     "data": {
      "text/html": [
       "<div>\n",
       "<style scoped>\n",
       "    .dataframe tbody tr th:only-of-type {\n",
       "        vertical-align: middle;\n",
       "    }\n",
       "\n",
       "    .dataframe tbody tr th {\n",
       "        vertical-align: top;\n",
       "    }\n",
       "\n",
       "    .dataframe thead th {\n",
       "        text-align: right;\n",
       "    }\n",
       "</style>\n",
       "<table border=\"1\" class=\"dataframe\">\n",
       "  <thead>\n",
       "    <tr style=\"text-align: right;\">\n",
       "      <th></th>\n",
       "      <th>member_casual</th>\n",
       "      <th>rideable_type</th>\n",
       "      <th>started_at</th>\n",
       "      <th>start_station_name</th>\n",
       "      <th>start_lat</th>\n",
       "      <th>start_lng</th>\n",
       "      <th>start_boro</th>\n",
       "      <th>start_hood</th>\n",
       "      <th>ended_at</th>\n",
       "      <th>end_station_name</th>\n",
       "      <th>end_lat</th>\n",
       "      <th>end_lng</th>\n",
       "      <th>end_boro</th>\n",
       "      <th>end_hood</th>\n",
       "      <th>year</th>\n",
       "      <th>month</th>\n",
       "      <th>week_of_year</th>\n",
       "      <th>day_of_week</th>\n",
       "      <th>hour_of_day</th>\n",
       "      <th>duration_min</th>\n",
       "      <th>distance_mi</th>\n",
       "      <th>speed_mph</th>\n",
       "    </tr>\n",
       "  </thead>\n",
       "  <tbody>\n",
       "    <tr>\n",
       "      <th>1</th>\n",
       "      <td>Member</td>\n",
       "      <td>Classic Bike</td>\n",
       "      <td>2021-05-13 12:48:08</td>\n",
       "      <td>Broadway &amp; W 25 St</td>\n",
       "      <td>40.742868</td>\n",
       "      <td>-73.989186</td>\n",
       "      <td>Manhattan</td>\n",
       "      <td>Flatiron District</td>\n",
       "      <td>2021-05-13 13:07:37</td>\n",
       "      <td>E 2 St &amp; Avenue B</td>\n",
       "      <td>40.722175</td>\n",
       "      <td>-73.983688</td>\n",
       "      <td>Manhattan</td>\n",
       "      <td>East Village</td>\n",
       "      <td>2021</td>\n",
       "      <td>5</td>\n",
       "      <td>19</td>\n",
       "      <td>3</td>\n",
       "      <td>12</td>\n",
       "      <td>19.483333</td>\n",
       "      <td>1.807254</td>\n",
       "      <td>5.565537</td>\n",
       "    </tr>\n",
       "    <tr>\n",
       "      <th>2</th>\n",
       "      <td>Member</td>\n",
       "      <td>Classic Bike</td>\n",
       "      <td>2021-05-16 08:30:13</td>\n",
       "      <td>46 Ave &amp; 5 St</td>\n",
       "      <td>40.747310</td>\n",
       "      <td>-73.954510</td>\n",
       "      <td>Queens</td>\n",
       "      <td>Long Island City</td>\n",
       "      <td>2021-05-16 08:45:47</td>\n",
       "      <td>34th Ave &amp; Vernon Blvd</td>\n",
       "      <td>40.765354</td>\n",
       "      <td>-73.939863</td>\n",
       "      <td>Queens</td>\n",
       "      <td>Long Island City</td>\n",
       "      <td>2021</td>\n",
       "      <td>5</td>\n",
       "      <td>19</td>\n",
       "      <td>6</td>\n",
       "      <td>8</td>\n",
       "      <td>15.566667</td>\n",
       "      <td>2.255646</td>\n",
       "      <td>8.694139</td>\n",
       "    </tr>\n",
       "    <tr>\n",
       "      <th>3</th>\n",
       "      <td>Member</td>\n",
       "      <td>Classic Bike</td>\n",
       "      <td>2021-05-01 08:38:14</td>\n",
       "      <td>46 Ave &amp; 5 St</td>\n",
       "      <td>40.747310</td>\n",
       "      <td>-73.954510</td>\n",
       "      <td>Queens</td>\n",
       "      <td>Long Island City</td>\n",
       "      <td>2021-05-01 08:54:27</td>\n",
       "      <td>34th Ave &amp; Vernon Blvd</td>\n",
       "      <td>40.765354</td>\n",
       "      <td>-73.939863</td>\n",
       "      <td>Queens</td>\n",
       "      <td>Long Island City</td>\n",
       "      <td>2021</td>\n",
       "      <td>5</td>\n",
       "      <td>17</td>\n",
       "      <td>5</td>\n",
       "      <td>8</td>\n",
       "      <td>16.216667</td>\n",
       "      <td>2.255646</td>\n",
       "      <td>8.345659</td>\n",
       "    </tr>\n",
       "    <tr>\n",
       "      <th>4</th>\n",
       "      <td>Member</td>\n",
       "      <td>Classic Bike</td>\n",
       "      <td>2021-05-09 08:12:31</td>\n",
       "      <td>46 Ave &amp; 5 St</td>\n",
       "      <td>40.747310</td>\n",
       "      <td>-73.954510</td>\n",
       "      <td>Queens</td>\n",
       "      <td>Long Island City</td>\n",
       "      <td>2021-05-09 08:27:05</td>\n",
       "      <td>34th Ave &amp; Vernon Blvd</td>\n",
       "      <td>40.765354</td>\n",
       "      <td>-73.939863</td>\n",
       "      <td>Queens</td>\n",
       "      <td>Long Island City</td>\n",
       "      <td>2021</td>\n",
       "      <td>5</td>\n",
       "      <td>18</td>\n",
       "      <td>6</td>\n",
       "      <td>8</td>\n",
       "      <td>14.566667</td>\n",
       "      <td>2.255646</td>\n",
       "      <td>9.290991</td>\n",
       "    </tr>\n",
       "    <tr>\n",
       "      <th>5</th>\n",
       "      <td>Member</td>\n",
       "      <td>Classic Bike</td>\n",
       "      <td>2021-05-27 07:52:27</td>\n",
       "      <td>E 123 St &amp; Lexington Ave</td>\n",
       "      <td>40.802926</td>\n",
       "      <td>-73.937900</td>\n",
       "      <td>Manhattan</td>\n",
       "      <td>East Harlem</td>\n",
       "      <td>2021-05-27 08:09:01</td>\n",
       "      <td>1 Ave &amp; E 78 St</td>\n",
       "      <td>40.771404</td>\n",
       "      <td>-73.953516</td>\n",
       "      <td>Manhattan</td>\n",
       "      <td>Upper East Side</td>\n",
       "      <td>2021</td>\n",
       "      <td>5</td>\n",
       "      <td>21</td>\n",
       "      <td>3</td>\n",
       "      <td>7</td>\n",
       "      <td>16.566667</td>\n",
       "      <td>3.252584</td>\n",
       "      <td>11.779982</td>\n",
       "    </tr>\n",
       "  </tbody>\n",
       "</table>\n",
       "</div>"
      ],
      "text/plain": [
       "  member_casual rideable_type          started_at        start_station_name  \\\n",
       "1        Member  Classic Bike 2021-05-13 12:48:08        Broadway & W 25 St   \n",
       "2        Member  Classic Bike 2021-05-16 08:30:13             46 Ave & 5 St   \n",
       "3        Member  Classic Bike 2021-05-01 08:38:14             46 Ave & 5 St   \n",
       "4        Member  Classic Bike 2021-05-09 08:12:31             46 Ave & 5 St   \n",
       "5        Member  Classic Bike 2021-05-27 07:52:27  E 123 St & Lexington Ave   \n",
       "\n",
       "   start_lat  start_lng start_boro         start_hood            ended_at  \\\n",
       "1  40.742868 -73.989186  Manhattan  Flatiron District 2021-05-13 13:07:37   \n",
       "2  40.747310 -73.954510     Queens   Long Island City 2021-05-16 08:45:47   \n",
       "3  40.747310 -73.954510     Queens   Long Island City 2021-05-01 08:54:27   \n",
       "4  40.747310 -73.954510     Queens   Long Island City 2021-05-09 08:27:05   \n",
       "5  40.802926 -73.937900  Manhattan        East Harlem 2021-05-27 08:09:01   \n",
       "\n",
       "         end_station_name    end_lat    end_lng   end_boro          end_hood  \\\n",
       "1       E 2 St & Avenue B  40.722175 -73.983688  Manhattan      East Village   \n",
       "2  34th Ave & Vernon Blvd  40.765354 -73.939863     Queens  Long Island City   \n",
       "3  34th Ave & Vernon Blvd  40.765354 -73.939863     Queens  Long Island City   \n",
       "4  34th Ave & Vernon Blvd  40.765354 -73.939863     Queens  Long Island City   \n",
       "5         1 Ave & E 78 St  40.771404 -73.953516  Manhattan   Upper East Side   \n",
       "\n",
       "   year  month  week_of_year  day_of_week  hour_of_day  duration_min  \\\n",
       "1  2021      5            19            3           12     19.483333   \n",
       "2  2021      5            19            6            8     15.566667   \n",
       "3  2021      5            17            5            8     16.216667   \n",
       "4  2021      5            18            6            8     14.566667   \n",
       "5  2021      5            21            3            7     16.566667   \n",
       "\n",
       "   distance_mi  speed_mph  \n",
       "1     1.807254   5.565537  \n",
       "2     2.255646   8.694139  \n",
       "3     2.255646   8.345659  \n",
       "4     2.255646   9.290991  \n",
       "5     3.252584  11.779982  "
      ]
     },
     "execution_count": 20,
     "metadata": {},
     "output_type": "execute_result"
    }
   ],
   "source": [
    "CB_Data.head()"
   ]
  },
  {
   "cell_type": "code",
   "execution_count": 21,
   "id": "b41e4403",
   "metadata": {},
   "outputs": [
    {
     "data": {
      "text/html": [
       "<div>\n",
       "<style scoped>\n",
       "    .dataframe tbody tr th:only-of-type {\n",
       "        vertical-align: middle;\n",
       "    }\n",
       "\n",
       "    .dataframe tbody tr th {\n",
       "        vertical-align: top;\n",
       "    }\n",
       "\n",
       "    .dataframe thead th {\n",
       "        text-align: right;\n",
       "    }\n",
       "</style>\n",
       "<table border=\"1\" class=\"dataframe\">\n",
       "  <thead>\n",
       "    <tr style=\"text-align: right;\">\n",
       "      <th></th>\n",
       "      <th>member_casual</th>\n",
       "      <th>rideable_type</th>\n",
       "      <th>started_at</th>\n",
       "      <th>start_station_name</th>\n",
       "      <th>start_lat</th>\n",
       "      <th>start_lng</th>\n",
       "      <th>start_boro</th>\n",
       "      <th>start_hood</th>\n",
       "      <th>ended_at</th>\n",
       "      <th>end_station_name</th>\n",
       "      <th>end_lat</th>\n",
       "      <th>end_lng</th>\n",
       "      <th>end_boro</th>\n",
       "      <th>end_hood</th>\n",
       "      <th>year</th>\n",
       "      <th>month</th>\n",
       "      <th>week_of_year</th>\n",
       "      <th>day_of_week</th>\n",
       "      <th>hour_of_day</th>\n",
       "      <th>duration_min</th>\n",
       "      <th>distance_mi</th>\n",
       "      <th>speed_mph</th>\n",
       "    </tr>\n",
       "  </thead>\n",
       "  <tbody>\n",
       "    <tr>\n",
       "      <th>28816543</th>\n",
       "      <td>Member</td>\n",
       "      <td>Classic Bike</td>\n",
       "      <td>2022-04-22 13:08:15</td>\n",
       "      <td>Allen St &amp; Rivington St</td>\n",
       "      <td>40.720196</td>\n",
       "      <td>-73.989978</td>\n",
       "      <td>Manhattan</td>\n",
       "      <td>Lower East Side</td>\n",
       "      <td>2022-04-22 13:29:31</td>\n",
       "      <td>W 29 St &amp; 9 Ave</td>\n",
       "      <td>40.750073</td>\n",
       "      <td>-73.998393</td>\n",
       "      <td>Manhattan</td>\n",
       "      <td>Chelsea</td>\n",
       "      <td>2022</td>\n",
       "      <td>4</td>\n",
       "      <td>16</td>\n",
       "      <td>4</td>\n",
       "      <td>13</td>\n",
       "      <td>21.266667</td>\n",
       "      <td>2.642086</td>\n",
       "      <td>7.454162</td>\n",
       "    </tr>\n",
       "    <tr>\n",
       "      <th>28816544</th>\n",
       "      <td>Member</td>\n",
       "      <td>Classic Bike</td>\n",
       "      <td>2022-04-13 17:10:49</td>\n",
       "      <td>St. Nicholas Terrace &amp; Convent Ave</td>\n",
       "      <td>40.821292</td>\n",
       "      <td>-73.947867</td>\n",
       "      <td>Manhattan</td>\n",
       "      <td>Harlem</td>\n",
       "      <td>2022-04-13 17:26:08</td>\n",
       "      <td>E 138 St &amp; Grand Concourse</td>\n",
       "      <td>40.813224</td>\n",
       "      <td>-73.930605</td>\n",
       "      <td>Bronx</td>\n",
       "      <td>Mott Haven</td>\n",
       "      <td>2022</td>\n",
       "      <td>4</td>\n",
       "      <td>15</td>\n",
       "      <td>2</td>\n",
       "      <td>17</td>\n",
       "      <td>15.316667</td>\n",
       "      <td>1.747766</td>\n",
       "      <td>6.846525</td>\n",
       "    </tr>\n",
       "    <tr>\n",
       "      <th>28816545</th>\n",
       "      <td>Member</td>\n",
       "      <td>Classic Bike</td>\n",
       "      <td>2022-04-12 15:58:47</td>\n",
       "      <td>E 88 St &amp; 1 Ave</td>\n",
       "      <td>40.778301</td>\n",
       "      <td>-73.948813</td>\n",
       "      <td>Manhattan</td>\n",
       "      <td>Upper East Side</td>\n",
       "      <td>2022-04-12 16:41:17</td>\n",
       "      <td>E 91 St &amp; 2 Ave</td>\n",
       "      <td>40.781151</td>\n",
       "      <td>-73.949634</td>\n",
       "      <td>Manhattan</td>\n",
       "      <td>Upper East Side</td>\n",
       "      <td>2022</td>\n",
       "      <td>4</td>\n",
       "      <td>15</td>\n",
       "      <td>1</td>\n",
       "      <td>15</td>\n",
       "      <td>42.500000</td>\n",
       "      <td>0.253228</td>\n",
       "      <td>0.357498</td>\n",
       "    </tr>\n",
       "    <tr>\n",
       "      <th>28816546</th>\n",
       "      <td>Member</td>\n",
       "      <td>Electric Bike</td>\n",
       "      <td>2022-04-28 15:52:49</td>\n",
       "      <td>W 55 St &amp; 6 Ave</td>\n",
       "      <td>40.763189</td>\n",
       "      <td>-73.978435</td>\n",
       "      <td>Manhattan</td>\n",
       "      <td>Midtown</td>\n",
       "      <td>2022-04-28 16:06:31</td>\n",
       "      <td>E 91 St &amp; 2 Ave</td>\n",
       "      <td>40.781151</td>\n",
       "      <td>-73.949634</td>\n",
       "      <td>Manhattan</td>\n",
       "      <td>Upper East Side</td>\n",
       "      <td>2022</td>\n",
       "      <td>4</td>\n",
       "      <td>17</td>\n",
       "      <td>3</td>\n",
       "      <td>15</td>\n",
       "      <td>13.700000</td>\n",
       "      <td>3.226664</td>\n",
       "      <td>14.131377</td>\n",
       "    </tr>\n",
       "    <tr>\n",
       "      <th>28816547</th>\n",
       "      <td>Member</td>\n",
       "      <td>Electric Bike</td>\n",
       "      <td>2022-04-11 19:55:31</td>\n",
       "      <td>W 87 St &amp; West End Ave</td>\n",
       "      <td>40.789625</td>\n",
       "      <td>-73.977567</td>\n",
       "      <td>Manhattan</td>\n",
       "      <td>Upper West Side</td>\n",
       "      <td>2022-04-11 20:09:19</td>\n",
       "      <td>E 91 St &amp; 2 Ave</td>\n",
       "      <td>40.781151</td>\n",
       "      <td>-73.949634</td>\n",
       "      <td>Manhattan</td>\n",
       "      <td>Upper East Side</td>\n",
       "      <td>2022</td>\n",
       "      <td>4</td>\n",
       "      <td>15</td>\n",
       "      <td>0</td>\n",
       "      <td>19</td>\n",
       "      <td>13.800000</td>\n",
       "      <td>2.512130</td>\n",
       "      <td>10.922306</td>\n",
       "    </tr>\n",
       "  </tbody>\n",
       "</table>\n",
       "</div>"
      ],
      "text/plain": [
       "         member_casual  rideable_type          started_at  \\\n",
       "28816543        Member   Classic Bike 2022-04-22 13:08:15   \n",
       "28816544        Member   Classic Bike 2022-04-13 17:10:49   \n",
       "28816545        Member   Classic Bike 2022-04-12 15:58:47   \n",
       "28816546        Member  Electric Bike 2022-04-28 15:52:49   \n",
       "28816547        Member  Electric Bike 2022-04-11 19:55:31   \n",
       "\n",
       "                          start_station_name  start_lat  start_lng start_boro  \\\n",
       "28816543             Allen St & Rivington St  40.720196 -73.989978  Manhattan   \n",
       "28816544  St. Nicholas Terrace & Convent Ave  40.821292 -73.947867  Manhattan   \n",
       "28816545                     E 88 St & 1 Ave  40.778301 -73.948813  Manhattan   \n",
       "28816546                     W 55 St & 6 Ave  40.763189 -73.978435  Manhattan   \n",
       "28816547              W 87 St & West End Ave  40.789625 -73.977567  Manhattan   \n",
       "\n",
       "               start_hood            ended_at            end_station_name  \\\n",
       "28816543  Lower East Side 2022-04-22 13:29:31             W 29 St & 9 Ave   \n",
       "28816544           Harlem 2022-04-13 17:26:08  E 138 St & Grand Concourse   \n",
       "28816545  Upper East Side 2022-04-12 16:41:17             E 91 St & 2 Ave   \n",
       "28816546          Midtown 2022-04-28 16:06:31             E 91 St & 2 Ave   \n",
       "28816547  Upper West Side 2022-04-11 20:09:19             E 91 St & 2 Ave   \n",
       "\n",
       "            end_lat    end_lng   end_boro         end_hood  year  month  \\\n",
       "28816543  40.750073 -73.998393  Manhattan          Chelsea  2022      4   \n",
       "28816544  40.813224 -73.930605      Bronx       Mott Haven  2022      4   \n",
       "28816545  40.781151 -73.949634  Manhattan  Upper East Side  2022      4   \n",
       "28816546  40.781151 -73.949634  Manhattan  Upper East Side  2022      4   \n",
       "28816547  40.781151 -73.949634  Manhattan  Upper East Side  2022      4   \n",
       "\n",
       "          week_of_year  day_of_week  hour_of_day  duration_min  distance_mi  \\\n",
       "28816543            16            4           13     21.266667     2.642086   \n",
       "28816544            15            2           17     15.316667     1.747766   \n",
       "28816545            15            1           15     42.500000     0.253228   \n",
       "28816546            17            3           15     13.700000     3.226664   \n",
       "28816547            15            0           19     13.800000     2.512130   \n",
       "\n",
       "          speed_mph  \n",
       "28816543   7.454162  \n",
       "28816544   6.846525  \n",
       "28816545   0.357498  \n",
       "28816546  14.131377  \n",
       "28816547  10.922306  "
      ]
     },
     "execution_count": 21,
     "metadata": {},
     "output_type": "execute_result"
    }
   ],
   "source": [
    "CB_Data.tail()"
   ]
  },
  {
   "cell_type": "code",
   "execution_count": 22,
   "id": "a19ac5ba",
   "metadata": {},
   "outputs": [
    {
     "name": "stdout",
     "output_type": "stream",
     "text": [
      "<class 'pandas.core.frame.DataFrame'>\n",
      "Int64Index: 27143436 entries, 1 to 28816547\n",
      "Data columns (total 22 columns):\n",
      " #   Column              Dtype         \n",
      "---  ------              -----         \n",
      " 0   member_casual       object        \n",
      " 1   rideable_type       object        \n",
      " 2   started_at          datetime64[ns]\n",
      " 3   start_station_name  object        \n",
      " 4   start_lat           float64       \n",
      " 5   start_lng           float64       \n",
      " 6   start_boro          object        \n",
      " 7   start_hood          object        \n",
      " 8   ended_at            datetime64[ns]\n",
      " 9   end_station_name    object        \n",
      " 10  end_lat             float64       \n",
      " 11  end_lng             float64       \n",
      " 12  end_boro            object        \n",
      " 13  end_hood            object        \n",
      " 14  year                int64         \n",
      " 15  month               int64         \n",
      " 16  week_of_year        int64         \n",
      " 17  day_of_week         int64         \n",
      " 18  hour_of_day         int64         \n",
      " 19  duration_min        float64       \n",
      " 20  distance_mi         float64       \n",
      " 21  speed_mph           float64       \n",
      "dtypes: datetime64[ns](2), float64(7), int64(5), object(8)\n",
      "memory usage: 4.7+ GB\n"
     ]
    }
   ],
   "source": [
    "CB_Data.info()"
   ]
  },
  {
   "cell_type": "code",
   "execution_count": 23,
   "id": "02593beb",
   "metadata": {},
   "outputs": [
    {
     "data": {
      "text/plain": [
       "member_casual                 object\n",
       "rideable_type                 object\n",
       "started_at            datetime64[ns]\n",
       "start_station_name            object\n",
       "start_lat                    float64\n",
       "start_lng                    float64\n",
       "start_boro                    object\n",
       "start_hood                    object\n",
       "ended_at              datetime64[ns]\n",
       "end_station_name              object\n",
       "end_lat                      float64\n",
       "end_lng                      float64\n",
       "end_boro                      object\n",
       "end_hood                      object\n",
       "year                           int64\n",
       "month                          int64\n",
       "week_of_year                   int64\n",
       "day_of_week                    int64\n",
       "hour_of_day                    int64\n",
       "duration_min                 float64\n",
       "distance_mi                  float64\n",
       "speed_mph                    float64\n",
       "dtype: object"
      ]
     },
     "execution_count": 23,
     "metadata": {},
     "output_type": "execute_result"
    }
   ],
   "source": [
    "CB_Data.dtypes"
   ]
  },
  {
   "cell_type": "markdown",
   "id": "0f1f400e",
   "metadata": {},
   "source": [
    "Check for null values."
   ]
  },
  {
   "cell_type": "code",
   "execution_count": 24,
   "id": "029d527b",
   "metadata": {},
   "outputs": [
    {
     "data": {
      "text/plain": [
       "member_casual         0\n",
       "rideable_type         0\n",
       "started_at            0\n",
       "start_station_name    0\n",
       "start_lat             0\n",
       "start_lng             0\n",
       "start_boro            0\n",
       "start_hood            0\n",
       "ended_at              0\n",
       "end_station_name      0\n",
       "end_lat               0\n",
       "end_lng               0\n",
       "end_boro              0\n",
       "end_hood              0\n",
       "year                  0\n",
       "month                 0\n",
       "week_of_year          0\n",
       "day_of_week           0\n",
       "hour_of_day           0\n",
       "duration_min          0\n",
       "distance_mi           0\n",
       "speed_mph             0\n",
       "dtype: int64"
      ]
     },
     "execution_count": 24,
     "metadata": {},
     "output_type": "execute_result"
    }
   ],
   "source": [
    "CB_Data.isnull().sum()"
   ]
  },
  {
   "cell_type": "markdown",
   "id": "4e6703ed",
   "metadata": {},
   "source": [
    "No null values and the dataframe has all the values that are needed for the EDA. Now it is time to export this completed dataframe to a .parquet file."
   ]
  },
  {
   "cell_type": "code",
   "execution_count": 25,
   "id": "7c46544a",
   "metadata": {},
   "outputs": [],
   "source": [
    "CB_Data_arrow = pa.Table.from_pandas(CB_Data)\n",
    "pq.write_table(CB_Data_arrow, 'CitiBike_data/202105-202204-citibike-tripdata.parquet')"
   ]
  }
 ],
 "metadata": {
  "kernelspec": {
   "display_name": "Python 3 (ipykernel)",
   "language": "python",
   "name": "python3"
  },
  "language_info": {
   "codemirror_mode": {
    "name": "ipython",
    "version": 3
   },
   "file_extension": ".py",
   "mimetype": "text/x-python",
   "name": "python",
   "nbconvert_exporter": "python",
   "pygments_lexer": "ipython3",
   "version": "3.9.7"
  }
 },
 "nbformat": 4,
 "nbformat_minor": 5
}
